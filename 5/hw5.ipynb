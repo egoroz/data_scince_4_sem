{
  "cells": [
    {
      "cell_type": "markdown",
      "metadata": {
        "id": "0heumA8kzQk3"
      },
      "source": [
        "# <a href=\"https://miptstats.github.io/courses/ad_mipt.html\">Phystech@DataScience</a>\n",
        "## Домашнее задание 5\n",
        "\n",
        "**Правила, <font color=\"red\">прочитайте внимательно</font>:**\n",
        "\n",
        "* Выполненную работу нужно отправить телеграм-боту `@miptstats_pds_bot`. Для начала работы с ботом каждый раз отправляйте `/start`. **Работы, присланные иным способом, не принимаются.**\n",
        "* Дедлайн см. в боте. После дедлайна работы не принимаются кроме случаев наличия уважительной причины.\n",
        "* Прислать нужно ноутбук в формате `ipynb`.\n",
        "* Выполнять задание необходимо полностью самостоятельно. **При обнаружении списывания все участники списывания будут сдавать устный зачет.**\n",
        "* Решения, размещенные на каких-либо интернет-ресурсах, не принимаются. Кроме того, публикация решения в открытом доступе может быть приравнена к предоставлении возможности списать.\n",
        "* Для выполнения задания используйте этот ноутбук в качестве основы, ничего не удаляя из него. Можно добавлять необходимое количество ячеек.\n",
        "* Комментарии к решению пишите в markdown-ячейках.\n",
        "* Выполнение задания (ход решения, выводы и пр.) должно быть осуществлено на русском языке.\n",
        "* Если код будет не понятен проверяющему, оценка может быть снижена.\n",
        "* Никакой код из данного задания при проверке запускаться не будет. *Если код студента не выполнен, недописан и т.д., то он не оценивается.*\n",
        "* **Код из рассказанных на занятиях ноутбуков можно использовать без ограничений.**\n",
        "\n",
        "**Правила оформления теоретических задач:**\n",
        "\n",
        "* Решения необходимо прислать одним из следующих способов:\n",
        "  * фотографией в правильной ориентации, где все четко видно, а почерк разборчив,\n",
        "    * отправив ее как файл боту вместе с ноутбуком *или*\n",
        "    * вставив ее в ноутбук посредством `Edit -> Insert Image` (<font color=\"red\">фото, вставленные ссылкой, не принимаются</font>);\n",
        "  * в виде $\\LaTeX$ в markdown-ячейках.\n",
        "* Решения не проверяются, если какое-то требование не выполнено. Особенно внимательно все проверьте в случае выбора второго пункта (вставки фото в ноутбук). <font color=\"red\"><b>Неправильно вставленные фотографии могут не передаться при отправке.</b></font> Для проверки попробуйте переместить `ipynb` в другую папку и открыть его там.\n",
        "* В решениях поясняйте, чем вы пользуетесь, хотя бы кратко. Например, если пользуетесь независимостью, то достаточно подписи вида \"*X и Y незав.*\"\n",
        "* Решение, в котором есть только ответ, и отсутствуют вычисления, оценивается в 0 баллов.\n",
        "\n",
        "**Баллы за задание:**\n",
        "\n",
        "<b><font color=\"blue\">Легкая часть</font></b> (достаточно на \"хор\"):\n",
        "* Задача 1 &mdash;  60 баллов\n",
        "* Задача 2 &mdash;  60 баллов\n",
        "\n",
        "<b><font color=\"orange\">Сложная часть</font></b> (необходимо на \"отл\"):\n",
        "* Задача 3 &mdash;  30 баллов\n",
        "* Задача 4 &mdash;  30 баллов\n",
        "\n",
        "\n",
        "\n",
        "\n",
        "\n",
        "\n",
        "\n",
        "-----"
      ]
    },
    {
      "cell_type": "code",
      "execution_count": 1,
      "metadata": {
        "id": "eNC_WGS1zIKT"
      },
      "outputs": [],
      "source": [
        "# Bot check\n",
        "\n",
        "# HW_ID: phds_hw5\n",
        "# Бот проверит этот ID и предупредит, если случайно сдать что-то не то.\n",
        "\n",
        "# Status: not final\n",
        "# Перед отправкой в финальном решении удали \"not\" в строчке выше.\n",
        "# Так бот проверит, что ты отправляешь финальную версию, а не промежуточную.\n",
        "# Никакие значения в этой ячейке не влияют на факт сдачи работы."
      ]
    },
    {
      "cell_type": "code",
      "execution_count": 2,
      "metadata": {
        "id": "Ny8CbNN5zEkR"
      },
      "outputs": [],
      "source": [
        "import numpy as np\n",
        "import pandas as pd\n",
        "import seaborn as sns\n",
        "import torch\n",
        "from torch import nn, optim\n",
        "import matplotlib.pyplot as plt\n",
        "\n",
        "from IPython.display import clear_output\n",
        "\n",
        "from sklearn.metrics import mean_absolute_percentage_error, r2_score, mean_absolute_error, mean_squared_error, accuracy_score\n",
        "from sklearn.linear_model import LinearRegression, Ridge, Lasso, ElasticNet\n",
        "from sklearn.preprocessing import LabelBinarizer, StandardScaler\n",
        "from sklearn.model_selection import train_test_split\n",
        "\n",
        "sns.set_theme(palette='Set2', font_scale=1.5)\n",
        "\n",
        "import warnings\n",
        "warnings.filterwarnings('ignore')"
      ]
    },
    {
      "cell_type": "markdown",
      "metadata": {
        "id": "usIK4Lrd021K"
      },
      "source": [
        "---\n",
        "## <b><font color=\"blue\">Легкая часть</font></b>\n",
        "### Задача 1"
      ]
    },
    {
      "cell_type": "markdown",
      "metadata": {
        "id": "4ZfWEaJu02wz"
      },
      "source": [
        "#### *Профиль биология*\n",
        "\n",
        "Мы будем исследовать датасет по экспрессиям различных генов (RNA-seq), используемых для предсказания возраста пациентов."
      ]
    },
    {
      "cell_type": "code",
      "execution_count": 3,
      "metadata": {
        "colab": {
          "base_uri": "https://localhost:8080/",
          "height": 273
        },
        "id": "inV4Tx-zG2pp",
        "outputId": "9570e905-0457-4994-e8ee-c29b9600653d"
      },
      "outputs": [],
      "source": [
        "df = pd.read_csv(\"hw5_data/Rnaseq_age_reg.csv\")\n",
        "# df.head()"
      ]
    },
    {
      "cell_type": "markdown",
      "metadata": {
        "id": "HJboUl86B9IU"
      },
      "source": [
        "Разбейте датасет на признаки и таргет, где в качестве таргета будет использоваться столбец `Age`, а признаки - все остальные. В том числе разбейте на подвыборки для обучения и теста."
      ]
    },
    {
      "cell_type": "code",
      "execution_count": null,
      "metadata": {
        "colab": {
          "base_uri": "https://localhost:8080/"
        },
        "id": "_DhNs7STG2lg",
        "outputId": "6ec2d089-9623-4604-8b45-6c75c1b8c36a"
      },
      "outputs": [],
      "source": []
    },
    {
      "cell_type": "markdown",
      "metadata": {},
      "source": [
        "**Переходите к общей части.**"
      ]
    },
    {
      "cell_type": "markdown",
      "metadata": {},
      "source": [
        "#### *Профиль физика*"
      ]
    },
    {
      "cell_type": "code",
      "execution_count": 4,
      "metadata": {},
      "outputs": [
        {
          "data": {
            "text/html": [
              "<div>\n",
              "<style scoped>\n",
              "    .dataframe tbody tr th:only-of-type {\n",
              "        vertical-align: middle;\n",
              "    }\n",
              "\n",
              "    .dataframe tbody tr th {\n",
              "        vertical-align: top;\n",
              "    }\n",
              "\n",
              "    .dataframe thead th {\n",
              "        text-align: right;\n",
              "    }\n",
              "</style>\n",
              "<table border=\"1\" class=\"dataframe\">\n",
              "  <thead>\n",
              "    <tr style=\"text-align: right;\">\n",
              "      <th></th>\n",
              "      <th>0</th>\n",
              "      <th>1</th>\n",
              "      <th>2</th>\n",
              "      <th>3</th>\n",
              "      <th>4</th>\n",
              "      <th>5</th>\n",
              "      <th>6</th>\n",
              "      <th>7</th>\n",
              "      <th>8</th>\n",
              "      <th>9</th>\n",
              "      <th>...</th>\n",
              "      <th>292</th>\n",
              "      <th>293</th>\n",
              "      <th>294</th>\n",
              "      <th>295</th>\n",
              "      <th>296</th>\n",
              "      <th>297</th>\n",
              "      <th>298</th>\n",
              "      <th>299</th>\n",
              "      <th>pubchem_id</th>\n",
              "      <th>Eat</th>\n",
              "    </tr>\n",
              "  </thead>\n",
              "  <tbody>\n",
              "    <tr>\n",
              "      <th>0</th>\n",
              "      <td>-54.825075</td>\n",
              "      <td>-0.835719</td>\n",
              "      <td>45.240515</td>\n",
              "      <td>-22.585658</td>\n",
              "      <td>1.450320</td>\n",
              "      <td>-16.223986</td>\n",
              "      <td>12.376342</td>\n",
              "      <td>13.424011</td>\n",
              "      <td>-4.923189</td>\n",
              "      <td>-2.653680</td>\n",
              "      <td>...</td>\n",
              "      <td>-0.023466</td>\n",
              "      <td>-0.066633</td>\n",
              "      <td>0.030779</td>\n",
              "      <td>-0.036064</td>\n",
              "      <td>-0.008572</td>\n",
              "      <td>0.011805</td>\n",
              "      <td>-0.036215</td>\n",
              "      <td>0.052180</td>\n",
              "      <td>25004</td>\n",
              "      <td>-19.013763</td>\n",
              "    </tr>\n",
              "    <tr>\n",
              "      <th>1</th>\n",
              "      <td>-34.039832</td>\n",
              "      <td>24.930703</td>\n",
              "      <td>-7.485562</td>\n",
              "      <td>40.737762</td>\n",
              "      <td>21.400170</td>\n",
              "      <td>15.280596</td>\n",
              "      <td>4.467203</td>\n",
              "      <td>-19.296032</td>\n",
              "      <td>-0.433598</td>\n",
              "      <td>18.387221</td>\n",
              "      <td>...</td>\n",
              "      <td>-0.000419</td>\n",
              "      <td>0.003369</td>\n",
              "      <td>-0.000641</td>\n",
              "      <td>-0.001035</td>\n",
              "      <td>0.012597</td>\n",
              "      <td>0.004377</td>\n",
              "      <td>0.004023</td>\n",
              "      <td>0.003356</td>\n",
              "      <td>25005</td>\n",
              "      <td>-10.161019</td>\n",
              "    </tr>\n",
              "    <tr>\n",
              "      <th>2</th>\n",
              "      <td>-58.794258</td>\n",
              "      <td>-49.823448</td>\n",
              "      <td>-35.062080</td>\n",
              "      <td>1.698937</td>\n",
              "      <td>-18.012227</td>\n",
              "      <td>12.523468</td>\n",
              "      <td>9.210336</td>\n",
              "      <td>7.488163</td>\n",
              "      <td>11.392693</td>\n",
              "      <td>-0.927953</td>\n",
              "      <td>...</td>\n",
              "      <td>-0.003377</td>\n",
              "      <td>-0.003500</td>\n",
              "      <td>0.002734</td>\n",
              "      <td>-0.001017</td>\n",
              "      <td>0.004774</td>\n",
              "      <td>0.012796</td>\n",
              "      <td>0.022270</td>\n",
              "      <td>0.008051</td>\n",
              "      <td>25006</td>\n",
              "      <td>-9.376619</td>\n",
              "    </tr>\n",
              "    <tr>\n",
              "      <th>3</th>\n",
              "      <td>-38.508716</td>\n",
              "      <td>19.211767</td>\n",
              "      <td>-4.858507</td>\n",
              "      <td>10.484105</td>\n",
              "      <td>16.622411</td>\n",
              "      <td>-22.131178</td>\n",
              "      <td>-14.876963</td>\n",
              "      <td>-5.516521</td>\n",
              "      <td>13.793978</td>\n",
              "      <td>3.657935</td>\n",
              "      <td>...</td>\n",
              "      <td>-0.001423</td>\n",
              "      <td>-0.000576</td>\n",
              "      <td>0.011144</td>\n",
              "      <td>-0.007253</td>\n",
              "      <td>-0.006700</td>\n",
              "      <td>-0.007940</td>\n",
              "      <td>0.022492</td>\n",
              "      <td>-0.007016</td>\n",
              "      <td>25009</td>\n",
              "      <td>-13.776438</td>\n",
              "    </tr>\n",
              "    <tr>\n",
              "      <th>4</th>\n",
              "      <td>-45.432604</td>\n",
              "      <td>-23.951574</td>\n",
              "      <td>-55.340413</td>\n",
              "      <td>-7.879883</td>\n",
              "      <td>-16.304009</td>\n",
              "      <td>13.340896</td>\n",
              "      <td>11.326496</td>\n",
              "      <td>6.784151</td>\n",
              "      <td>11.208725</td>\n",
              "      <td>-0.181278</td>\n",
              "      <td>...</td>\n",
              "      <td>0.008307</td>\n",
              "      <td>-0.003005</td>\n",
              "      <td>0.000816</td>\n",
              "      <td>-0.000938</td>\n",
              "      <td>0.001135</td>\n",
              "      <td>-0.005256</td>\n",
              "      <td>0.001042</td>\n",
              "      <td>0.002651</td>\n",
              "      <td>25011</td>\n",
              "      <td>-8.537140</td>\n",
              "    </tr>\n",
              "    <tr>\n",
              "      <th>...</th>\n",
              "      <td>...</td>\n",
              "      <td>...</td>\n",
              "      <td>...</td>\n",
              "      <td>...</td>\n",
              "      <td>...</td>\n",
              "      <td>...</td>\n",
              "      <td>...</td>\n",
              "      <td>...</td>\n",
              "      <td>...</td>\n",
              "      <td>...</td>\n",
              "      <td>...</td>\n",
              "      <td>...</td>\n",
              "      <td>...</td>\n",
              "      <td>...</td>\n",
              "      <td>...</td>\n",
              "      <td>...</td>\n",
              "      <td>...</td>\n",
              "      <td>...</td>\n",
              "      <td>...</td>\n",
              "      <td>...</td>\n",
              "      <td>...</td>\n",
              "    </tr>\n",
              "    <tr>\n",
              "      <th>495</th>\n",
              "      <td>-92.990624</td>\n",
              "      <td>-37.989869</td>\n",
              "      <td>-41.713767</td>\n",
              "      <td>2.459257</td>\n",
              "      <td>-18.563966</td>\n",
              "      <td>12.633696</td>\n",
              "      <td>10.269036</td>\n",
              "      <td>7.093498</td>\n",
              "      <td>11.729846</td>\n",
              "      <td>-0.500295</td>\n",
              "      <td>...</td>\n",
              "      <td>-0.000781</td>\n",
              "      <td>-0.002851</td>\n",
              "      <td>-0.006694</td>\n",
              "      <td>-0.001080</td>\n",
              "      <td>0.003278</td>\n",
              "      <td>0.011115</td>\n",
              "      <td>0.005822</td>\n",
              "      <td>0.005368</td>\n",
              "      <td>27535</td>\n",
              "      <td>-9.593441</td>\n",
              "    </tr>\n",
              "    <tr>\n",
              "      <th>496</th>\n",
              "      <td>-33.853515</td>\n",
              "      <td>35.368724</td>\n",
              "      <td>13.274417</td>\n",
              "      <td>25.765836</td>\n",
              "      <td>16.590896</td>\n",
              "      <td>-13.918333</td>\n",
              "      <td>16.788150</td>\n",
              "      <td>-14.716585</td>\n",
              "      <td>3.238425</td>\n",
              "      <td>-12.302618</td>\n",
              "      <td>...</td>\n",
              "      <td>-0.003979</td>\n",
              "      <td>0.009309</td>\n",
              "      <td>0.003323</td>\n",
              "      <td>-0.009299</td>\n",
              "      <td>0.000988</td>\n",
              "      <td>-0.010954</td>\n",
              "      <td>-0.003540</td>\n",
              "      <td>-0.001859</td>\n",
              "      <td>27536</td>\n",
              "      <td>-11.076878</td>\n",
              "    </tr>\n",
              "    <tr>\n",
              "      <th>497</th>\n",
              "      <td>-38.655242</td>\n",
              "      <td>11.967915</td>\n",
              "      <td>-12.953299</td>\n",
              "      <td>12.041033</td>\n",
              "      <td>26.324118</td>\n",
              "      <td>4.377067</td>\n",
              "      <td>-5.507208</td>\n",
              "      <td>-15.101374</td>\n",
              "      <td>-4.403972</td>\n",
              "      <td>13.578827</td>\n",
              "      <td>...</td>\n",
              "      <td>-0.008269</td>\n",
              "      <td>-0.003215</td>\n",
              "      <td>0.005450</td>\n",
              "      <td>0.003140</td>\n",
              "      <td>-0.000292</td>\n",
              "      <td>0.001727</td>\n",
              "      <td>0.014564</td>\n",
              "      <td>0.009907</td>\n",
              "      <td>27538</td>\n",
              "      <td>-9.005514</td>\n",
              "    </tr>\n",
              "    <tr>\n",
              "      <th>498</th>\n",
              "      <td>-46.056230</td>\n",
              "      <td>18.084091</td>\n",
              "      <td>39.077455</td>\n",
              "      <td>-14.063225</td>\n",
              "      <td>0.243868</td>\n",
              "      <td>-21.583486</td>\n",
              "      <td>8.959267</td>\n",
              "      <td>17.277933</td>\n",
              "      <td>-3.917826</td>\n",
              "      <td>-0.851561</td>\n",
              "      <td>...</td>\n",
              "      <td>0.013263</td>\n",
              "      <td>-0.013744</td>\n",
              "      <td>-0.013583</td>\n",
              "      <td>-0.012581</td>\n",
              "      <td>0.009365</td>\n",
              "      <td>0.000493</td>\n",
              "      <td>0.003530</td>\n",
              "      <td>0.002471</td>\n",
              "      <td>27541</td>\n",
              "      <td>-14.458023</td>\n",
              "    </tr>\n",
              "    <tr>\n",
              "      <th>499</th>\n",
              "      <td>-45.643137</td>\n",
              "      <td>22.730256</td>\n",
              "      <td>47.301126</td>\n",
              "      <td>-19.027558</td>\n",
              "      <td>-11.381165</td>\n",
              "      <td>-15.344234</td>\n",
              "      <td>4.256330</td>\n",
              "      <td>17.601498</td>\n",
              "      <td>-10.089694</td>\n",
              "      <td>9.298104</td>\n",
              "      <td>...</td>\n",
              "      <td>0.010800</td>\n",
              "      <td>0.024764</td>\n",
              "      <td>-0.004806</td>\n",
              "      <td>-0.005144</td>\n",
              "      <td>-0.011890</td>\n",
              "      <td>-0.036179</td>\n",
              "      <td>-0.051096</td>\n",
              "      <td>-0.015406</td>\n",
              "      <td>27543</td>\n",
              "      <td>-15.644741</td>\n",
              "    </tr>\n",
              "  </tbody>\n",
              "</table>\n",
              "<p>500 rows × 302 columns</p>\n",
              "</div>"
            ],
            "text/plain": [
              "             0          1          2          3          4          5  \\\n",
              "0   -54.825075  -0.835719  45.240515 -22.585658   1.450320 -16.223986   \n",
              "1   -34.039832  24.930703  -7.485562  40.737762  21.400170  15.280596   \n",
              "2   -58.794258 -49.823448 -35.062080   1.698937 -18.012227  12.523468   \n",
              "3   -38.508716  19.211767  -4.858507  10.484105  16.622411 -22.131178   \n",
              "4   -45.432604 -23.951574 -55.340413  -7.879883 -16.304009  13.340896   \n",
              "..         ...        ...        ...        ...        ...        ...   \n",
              "495 -92.990624 -37.989869 -41.713767   2.459257 -18.563966  12.633696   \n",
              "496 -33.853515  35.368724  13.274417  25.765836  16.590896 -13.918333   \n",
              "497 -38.655242  11.967915 -12.953299  12.041033  26.324118   4.377067   \n",
              "498 -46.056230  18.084091  39.077455 -14.063225   0.243868 -21.583486   \n",
              "499 -45.643137  22.730256  47.301126 -19.027558 -11.381165 -15.344234   \n",
              "\n",
              "             6          7          8          9  ...       292       293  \\\n",
              "0    12.376342  13.424011  -4.923189  -2.653680  ... -0.023466 -0.066633   \n",
              "1     4.467203 -19.296032  -0.433598  18.387221  ... -0.000419  0.003369   \n",
              "2     9.210336   7.488163  11.392693  -0.927953  ... -0.003377 -0.003500   \n",
              "3   -14.876963  -5.516521  13.793978   3.657935  ... -0.001423 -0.000576   \n",
              "4    11.326496   6.784151  11.208725  -0.181278  ...  0.008307 -0.003005   \n",
              "..         ...        ...        ...        ...  ...       ...       ...   \n",
              "495  10.269036   7.093498  11.729846  -0.500295  ... -0.000781 -0.002851   \n",
              "496  16.788150 -14.716585   3.238425 -12.302618  ... -0.003979  0.009309   \n",
              "497  -5.507208 -15.101374  -4.403972  13.578827  ... -0.008269 -0.003215   \n",
              "498   8.959267  17.277933  -3.917826  -0.851561  ...  0.013263 -0.013744   \n",
              "499   4.256330  17.601498 -10.089694   9.298104  ...  0.010800  0.024764   \n",
              "\n",
              "          294       295       296       297       298       299  pubchem_id  \\\n",
              "0    0.030779 -0.036064 -0.008572  0.011805 -0.036215  0.052180       25004   \n",
              "1   -0.000641 -0.001035  0.012597  0.004377  0.004023  0.003356       25005   \n",
              "2    0.002734 -0.001017  0.004774  0.012796  0.022270  0.008051       25006   \n",
              "3    0.011144 -0.007253 -0.006700 -0.007940  0.022492 -0.007016       25009   \n",
              "4    0.000816 -0.000938  0.001135 -0.005256  0.001042  0.002651       25011   \n",
              "..        ...       ...       ...       ...       ...       ...         ...   \n",
              "495 -0.006694 -0.001080  0.003278  0.011115  0.005822  0.005368       27535   \n",
              "496  0.003323 -0.009299  0.000988 -0.010954 -0.003540 -0.001859       27536   \n",
              "497  0.005450  0.003140 -0.000292  0.001727  0.014564  0.009907       27538   \n",
              "498 -0.013583 -0.012581  0.009365  0.000493  0.003530  0.002471       27541   \n",
              "499 -0.004806 -0.005144 -0.011890 -0.036179 -0.051096 -0.015406       27543   \n",
              "\n",
              "           Eat  \n",
              "0   -19.013763  \n",
              "1   -10.161019  \n",
              "2    -9.376619  \n",
              "3   -13.776438  \n",
              "4    -8.537140  \n",
              "..         ...  \n",
              "495  -9.593441  \n",
              "496 -11.076878  \n",
              "497  -9.005514  \n",
              "498 -14.458023  \n",
              "499 -15.644741  \n",
              "\n",
              "[500 rows x 302 columns]"
            ]
          },
          "execution_count": 4,
          "metadata": {},
          "output_type": "execute_result"
        }
      ],
      "source": [
        "df = pd.read_csv(\"hw5_data/physics_data.csv\", index_col=0)\n",
        "df.head(5000)"
      ]
    },
    {
      "cell_type": "markdown",
      "metadata": {},
      "source": [
        "Разбейте датасет на признаки и таргет, где в качестве таргета будет использоваться столбец Eat, а признаки - все остальные. В том числе разбейте на подвыборки для обучения и теста."
      ]
    },
    {
      "cell_type": "code",
      "execution_count": 5,
      "metadata": {},
      "outputs": [],
      "source": [
        "X = np.hstack([df.drop(\"Eat\", axis=1)])\n",
        "y = df[\"Eat\"]\n",
        "\n",
        "X_train, X_test = train_test_split(X, test_size=0.7, train_size=0.3, random_state=207)\n",
        "y_train, y_test = train_test_split(y, test_size=0.7, train_size=0.3, random_state=207)"
      ]
    },
    {
      "cell_type": "markdown",
      "metadata": {
        "id": "C2tp1fIoHUoi"
      },
      "source": [
        "### Общая часть\n",
        "\n",
        "Отмасштабируйте данные:"
      ]
    },
    {
      "cell_type": "code",
      "execution_count": 6,
      "metadata": {},
      "outputs": [],
      "source": [
        "scaler = StandardScaler()\n",
        "\n",
        "X_train = scaler.fit_transform(X_train)\n",
        "X_test = scaler.transform(X_test)"
      ]
    },
    {
      "cell_type": "markdown",
      "metadata": {
        "id": "LPBCrYQECQ0t"
      },
      "source": [
        "Обучите модель линейной регрессии и посмотрите на значения метрик на тесте. Что вы можете сказать про результат обучения?"
      ]
    },
    {
      "cell_type": "code",
      "execution_count": 7,
      "metadata": {
        "colab": {
          "base_uri": "https://localhost:8080/"
        },
        "id": "0eRQz-AzG2hS",
        "outputId": "9cc62d52-da7e-4e1a-efc6-1e1ad8d7bbfc"
      },
      "outputs": [
        {
          "name": "stdout",
          "output_type": "stream",
          "text": [
            "r2_score =  0.40706865389598357 \n",
            " RMSE =  7.221429547888227 \n",
            " MAE =  1.7440050194643546 \n",
            " MAPE =  18.44595581363626 \n",
            "\n"
          ]
        }
      ],
      "source": [
        "lin_model = LinearRegression()\n",
        "\n",
        "lin_model.fit(X_train, y_train)\n",
        "y_pred = lin_model.predict(X_test)\n",
        "\n",
        "print(\"r2_score = \", r2_score(y_test, y_pred), \"\\n\",\n",
        "      \"RMSE = \", mean_squared_error(y_test, y_pred) , \"\\n\",\n",
        "      \"MAE = \", mean_absolute_error(y_test, y_pred), \"\\n\",\n",
        "      \"MAPE = \", mean_absolute_percentage_error(y_test, y_pred) * 100 , '\\n')  # % "
      ]
    },
    {
      "cell_type": "markdown",
      "metadata": {},
      "source": [
        "r2_score показал достаточно низкое значение. Постараемся его повысить далее"
      ]
    },
    {
      "cell_type": "markdown",
      "metadata": {
        "id": "tAEwwjTCCsML"
      },
      "source": [
        "Обучите линейные модели с регуляризациями, которые мы проходили ранее. Для каждой из моделей постройте графики зависимости метрик r2 и MAPE от коэфициента регуляризации. Можно пользоваться кодом из домашнего задания по регуляризации. Сильно ли улучшился результат? "
      ]
    },
    {
      "cell_type": "code",
      "execution_count": 8,
      "metadata": {},
      "outputs": [],
      "source": [
        "def calculate_coef(model, X, y, log_min, log_max, \n",
        "               num):\n",
        "    \"\"\"\n",
        "    Данная функция считает коэффициенты для признаков \n",
        "    при различных значениях параметра регуляризации.\n",
        "\n",
        "    :param model: регрессионная модель\n",
        "    :param X: матрица регрессоров\n",
        "    :param y: вектор целевой переменной\n",
        "    :param log_min, log_max: логарифмы левой и правой границ диапазона для коэффициента регуляризации\n",
        "    :param num: число точек из диапазона\n",
        "\n",
        "    :return coefs: коэффициенты модели\n",
        "    \"\"\"\n",
        "    \n",
        "    alphas = np.logspace(log_min, log_max, num) # сетка параметров   \n",
        "    coefs = [] # коэффициенты моделей\n",
        "    for a in alphas:\n",
        "        if 'l1_ratio' in model.get_params(): # для ElasticNet\n",
        "            # равномерно распределим alpha по обоим коэффициентам\n",
        "            a *= 3/2\n",
        "            model.set_params(alpha=a) # переопределяем параметры модели\n",
        "        else:\n",
        "            model.set_params(alpha=a)\n",
        "        model.fit(X, y)\n",
        "        # отбираем только первые 20 признаков для ускорения работы кода\n",
        "        coefs.append(model.coef_[:20]) \n",
        "    return coefs\n",
        "\n",
        "def draw_track(coefs, log_min, log_max, \n",
        "               num, title='', figsize=(10, 5)):\n",
        "    \n",
        "    \"\"\"\n",
        "    Данная функция строит график зависимости значений \n",
        "    коэффициентов модели от параметра регуляризации.\n",
        "    \n",
        "    :param coefs: коэффициенты модели\n",
        "    :param log_min, log_max: логарифмы левой и правой границ диапазона для коэффициента регуляризации\n",
        "    :param num: число точек из диапазона\n",
        "    :param title: название графика\n",
        "    :param figsize: размеры рисунка\n",
        "\n",
        "    :return coefs: коэффициенты модели\n",
        "    \"\"\"\n",
        "    alphas = np.logspace(log_min, log_max, num) # сетка параметров  \n",
        "\n",
        "    plt.figure(figsize=figsize)\n",
        "    ax = plt.gca() # используется для получения текущего экземпляра axes\n",
        "    ax.hlines(0, 10 ** log_min, 10 ** log_max, linewidth=15, alpha=0.15)\n",
        "    ind = 1\n",
        "    for coef in np.array(coefs).T:\n",
        "        label = r'$\\theta_{' + str(ind) + '}$'\n",
        "        ax.plot(alphas, coef, linewidth=2, label=label) # рисуем коэффициенты в зависимости от alpha\n",
        "        ind += 1\n",
        "        \n",
        "    ax.set_xscale('log') # логарифмическая шкала\n",
        "    ax.set_xlim(ax.get_xlim()[::-1])  # обратить ось\n",
        "    plt.xlabel('Параметр регуляризации', fontsize=19)\n",
        "    plt.ylabel('Значения коэффициентов', fontsize=19)\n",
        "    plt.title(title, fontsize=22)\n",
        "    plt.legend(loc='upper left', fontsize=8)\n",
        "    plt.axis('tight')\n",
        "    plt.show()"
      ]
    },
    {
      "cell_type": "code",
      "execution_count": 9,
      "metadata": {},
      "outputs": [],
      "source": [
        "def draw_errors(error, error_name, alphas, X_train, y_train, X_test, y_test):\n",
        "\n",
        "    \"\"\"\n",
        "    Функция строит график зависимости величины ошибки от параметра alpha для разных моделей\n",
        "    \n",
        "    :param error: функция, вычисляющая ошибку\n",
        "    :param error_name: имя функции, вычисляющей ошибку (одно из 'MSE', 'MAE', 'MAPE')\n",
        "    :param alphas: массив величин alpha\n",
        "    \"\"\"\n",
        "    arr = [] # массив ошибок\n",
        "    for a in alphas:\n",
        "        tmp = [] # массив ошибок\n",
        "        models = []\n",
        "        for alpha in alphas:\n",
        "            models.append(Ridge(alpha=a))\n",
        "            models.append(Lasso(alpha=a))\n",
        "            for r1 in [0.1, 0.5, 0.9]:\n",
        "                models.append(ElasticNet(alpha=a, l1_ratio=r1))\n",
        "        for model in models:\n",
        "            # обучение модели и предсказание\n",
        "            model.fit(X_train, y_train)\n",
        "            y_pred = model.predict(X_test)\n",
        "            tmp.append(error(y_test, y_pred))\n",
        "        arr.append(tmp)\n",
        "\n",
        "    arr = np.array(arr)\n",
        "    plt.figure(figsize=(10, 6), dpi=100)\n",
        "\n",
        "    names = [\"RIDGE\", \"LASSO\", \"ELASTIC(r1_ratio=0.1)\", \"ELASTIC(r1_ratio=0.5)\", \"ELASTIC(r1_ratio=0.9)\"]\n",
        "    for i in range(5):\n",
        "        plt.plot(alphas, arr[:, i], label=names[i]) # рисуем ошибки в зависимости от alpha\n",
        "\n",
        "\n",
        "    linreg = {}\n",
        "\n",
        "    linreg_model = LinearRegression()\n",
        "    linreg_model.fit(X_train, y_train)\n",
        "    y_pred = linreg_model.predict(X_test)\n",
        "\n",
        "    linreg[error_name] = error(y_true=y_test, y_pred=y_pred)\n",
        "\n",
        "    # прерывистой линией рисуем ошибки логрега без регуляризации\n",
        "    plt.hlines(linreg[error_name], alphas[0], alphas[-1], color='black', label = 'No regularization', linestyles='dashed')\n",
        "    plt.xlabel('Параметр регуляризации')\n",
        "    plt.ylabel(error_name)\n",
        "    plt.xscale('log')\n",
        "    plt.legend()"
      ]
    },
    {
      "cell_type": "code",
      "execution_count": 10,
      "metadata": {},
      "outputs": [],
      "source": [
        "alphas = np.logspace(-6, 8, 20)\n",
        "\n",
        "# draw_errors(r2_score, \"r2_score\", alphas, X_train, y_train, X_test, y_test)\n",
        "# draw_errors(mean_absolute_percentage_error, \"MAPE\", alphas, X_train, y_train, X_test, y_test)\n"
      ]
    },
    {
      "cell_type": "markdown",
      "metadata": {},
      "source": [
        "Посмотрим поближе на диапазон, в котором r2_score максимальна, а MAPE минимальна"
      ]
    },
    {
      "cell_type": "code",
      "execution_count": 11,
      "metadata": {},
      "outputs": [],
      "source": [
        "alphas = np.logspace(-4, 0, 20)\n",
        "\n",
        "# draw_errors(r2_score, \"r2_score\", alphas, X_train, y_train, X_test, y_test)\n",
        "# draw_errors(mean_absolute_percentage_error, \"MAPE\", alphas, X_train, y_train, X_test, y_test)"
      ]
    },
    {
      "cell_type": "markdown",
      "metadata": {},
      "source": [
        "Выберите оптимальный, на вашь взгляд, параметр для L1-регуляризации, обучите модель Lasso-регрессии, выведите ещё раз метрики r2 и MAPE и проведите отбор признаков: уберите из датасета все те, для которых коэффициент регуляризации оказался нулевым."
      ]
    },
    {
      "cell_type": "code",
      "execution_count": 12,
      "metadata": {},
      "outputs": [
        {
          "name": "stdout",
          "output_type": "stream",
          "text": [
            "r2_score =  0.8021636510541861 \n",
            " MAPE =  13.687117049125716 \n",
            "\n"
          ]
        }
      ],
      "source": [
        "# Параметр регуляции = 0.16 - Lasso показало себя наилучшим образом\n",
        "\n",
        "lasso_model = Lasso(alpha=0.16)\n",
        "lasso_model.fit(X_train, y_train)\n",
        "y_pred = lasso_model.predict(X_test)\n",
        "\n",
        "print(\"r2_score = \", r2_score(y_test, y_pred), \"\\n\",\n",
        "      \"MAPE = \", mean_absolute_percentage_error(y_test, y_pred) * 100 , '\\n')  # % \n"
      ]
    },
    {
      "cell_type": "code",
      "execution_count": 13,
      "metadata": {},
      "outputs": [
        {
          "name": "stdout",
          "output_type": "stream",
          "text": [
            "  (0, 1)\t-1.1551610298851676\n",
            "  (0, 2)\t-1.9593203950122748\n",
            "  (0, 3)\t0.628113103657678\n",
            "  (0, 4)\t0.010632261474897008\n",
            "  (0, 6)\t0.18215519549083872\n",
            "  (0, 21)\t-0.8052126270182416\n",
            "  (0, 22)\t-0.07701635158257938\n",
            "  (0, 24)\t0.01892990250668845\n",
            "  (0, 26)\t-0.304374531045083\n",
            "  (0, 27)\t0.42692299847677423\n",
            "  (0, 29)\t-0.29413198816155844\n",
            "  (0, 30)\t0.0666107446083542\n",
            "  (0, 34)\t0.008081198970197387\n",
            "  (0, 52)\t-0.056868721088823314\n",
            "  (0, 195)\t-0.015338406872794893\n",
            "  (0, 230)\t0.022695356819566036\n",
            "  (0, 237)\t0.003165516382732321\n",
            "  (0, 242)\t-0.04710822225658107\n",
            "  (0, 253)\t0.21460574935502172\n",
            "  (0, 266)\t0.024017885325081503\n",
            "  (0, 271)\t-0.17946804611403752\n",
            "  (0, 278)\t0.017719424835427783\n",
            "  (0, 285)\t-0.17632266353306925\n"
          ]
        }
      ],
      "source": [
        "print(lasso_model.sparse_coef_)"
      ]
    },
    {
      "cell_type": "code",
      "execution_count": 14,
      "metadata": {},
      "outputs": [
        {
          "data": {
            "text/html": [
              "<div>\n",
              "<style scoped>\n",
              "    .dataframe tbody tr th:only-of-type {\n",
              "        vertical-align: middle;\n",
              "    }\n",
              "\n",
              "    .dataframe tbody tr th {\n",
              "        vertical-align: top;\n",
              "    }\n",
              "\n",
              "    .dataframe thead th {\n",
              "        text-align: right;\n",
              "    }\n",
              "</style>\n",
              "<table border=\"1\" class=\"dataframe\">\n",
              "  <thead>\n",
              "    <tr style=\"text-align: right;\">\n",
              "      <th></th>\n",
              "      <th>1</th>\n",
              "      <th>2</th>\n",
              "      <th>3</th>\n",
              "      <th>4</th>\n",
              "      <th>6</th>\n",
              "      <th>21</th>\n",
              "      <th>22</th>\n",
              "      <th>24</th>\n",
              "      <th>26</th>\n",
              "      <th>27</th>\n",
              "      <th>...</th>\n",
              "      <th>52</th>\n",
              "      <th>195</th>\n",
              "      <th>230</th>\n",
              "      <th>237</th>\n",
              "      <th>242</th>\n",
              "      <th>253</th>\n",
              "      <th>266</th>\n",
              "      <th>271</th>\n",
              "      <th>278</th>\n",
              "      <th>285</th>\n",
              "    </tr>\n",
              "  </thead>\n",
              "  <tbody>\n",
              "    <tr>\n",
              "      <th>0</th>\n",
              "      <td>-0.835719</td>\n",
              "      <td>45.240515</td>\n",
              "      <td>-22.585658</td>\n",
              "      <td>1.450320</td>\n",
              "      <td>12.376342</td>\n",
              "      <td>5.340506</td>\n",
              "      <td>4.969415</td>\n",
              "      <td>0.006403</td>\n",
              "      <td>2.757404</td>\n",
              "      <td>-4.199367</td>\n",
              "      <td>...</td>\n",
              "      <td>0.858496</td>\n",
              "      <td>0.091524</td>\n",
              "      <td>-0.022237</td>\n",
              "      <td>-0.059711</td>\n",
              "      <td>-0.041133</td>\n",
              "      <td>-0.131693</td>\n",
              "      <td>-0.033784</td>\n",
              "      <td>0.036059</td>\n",
              "      <td>-0.002446</td>\n",
              "      <td>-0.009772</td>\n",
              "    </tr>\n",
              "    <tr>\n",
              "      <th>1</th>\n",
              "      <td>24.930703</td>\n",
              "      <td>-7.485562</td>\n",
              "      <td>40.737762</td>\n",
              "      <td>21.400170</td>\n",
              "      <td>4.467203</td>\n",
              "      <td>-0.664091</td>\n",
              "      <td>-0.704199</td>\n",
              "      <td>-0.143260</td>\n",
              "      <td>0.759895</td>\n",
              "      <td>-1.871914</td>\n",
              "      <td>...</td>\n",
              "      <td>1.082967</td>\n",
              "      <td>0.037623</td>\n",
              "      <td>0.006825</td>\n",
              "      <td>-0.018006</td>\n",
              "      <td>-0.014838</td>\n",
              "      <td>0.008109</td>\n",
              "      <td>-0.009541</td>\n",
              "      <td>0.007244</td>\n",
              "      <td>-0.002811</td>\n",
              "      <td>-0.007571</td>\n",
              "    </tr>\n",
              "    <tr>\n",
              "      <th>2</th>\n",
              "      <td>-49.823448</td>\n",
              "      <td>-35.062080</td>\n",
              "      <td>1.698937</td>\n",
              "      <td>-18.012227</td>\n",
              "      <td>9.210336</td>\n",
              "      <td>1.058435</td>\n",
              "      <td>0.512906</td>\n",
              "      <td>-1.047310</td>\n",
              "      <td>0.174719</td>\n",
              "      <td>-0.553932</td>\n",
              "      <td>...</td>\n",
              "      <td>-0.276563</td>\n",
              "      <td>-0.026008</td>\n",
              "      <td>-0.014705</td>\n",
              "      <td>-0.003170</td>\n",
              "      <td>0.022468</td>\n",
              "      <td>0.008048</td>\n",
              "      <td>0.007464</td>\n",
              "      <td>0.003256</td>\n",
              "      <td>0.006237</td>\n",
              "      <td>-0.002011</td>\n",
              "    </tr>\n",
              "    <tr>\n",
              "      <th>3</th>\n",
              "      <td>19.211767</td>\n",
              "      <td>-4.858507</td>\n",
              "      <td>10.484105</td>\n",
              "      <td>16.622411</td>\n",
              "      <td>-14.876963</td>\n",
              "      <td>5.731974</td>\n",
              "      <td>2.426062</td>\n",
              "      <td>0.490418</td>\n",
              "      <td>0.651300</td>\n",
              "      <td>-2.345693</td>\n",
              "      <td>...</td>\n",
              "      <td>-0.510875</td>\n",
              "      <td>-0.024173</td>\n",
              "      <td>0.012493</td>\n",
              "      <td>-0.041638</td>\n",
              "      <td>0.020318</td>\n",
              "      <td>-0.015969</td>\n",
              "      <td>0.032869</td>\n",
              "      <td>0.015402</td>\n",
              "      <td>-0.003125</td>\n",
              "      <td>-0.016088</td>\n",
              "    </tr>\n",
              "    <tr>\n",
              "      <th>4</th>\n",
              "      <td>-23.951574</td>\n",
              "      <td>-55.340413</td>\n",
              "      <td>-7.879883</td>\n",
              "      <td>-16.304009</td>\n",
              "      <td>11.326496</td>\n",
              "      <td>0.944216</td>\n",
              "      <td>0.164863</td>\n",
              "      <td>-0.310109</td>\n",
              "      <td>-0.479923</td>\n",
              "      <td>0.770741</td>\n",
              "      <td>...</td>\n",
              "      <td>0.874432</td>\n",
              "      <td>-0.001021</td>\n",
              "      <td>0.001079</td>\n",
              "      <td>-0.011153</td>\n",
              "      <td>-0.006150</td>\n",
              "      <td>-0.003900</td>\n",
              "      <td>0.003707</td>\n",
              "      <td>0.002279</td>\n",
              "      <td>0.000423</td>\n",
              "      <td>0.001455</td>\n",
              "    </tr>\n",
              "    <tr>\n",
              "      <th>...</th>\n",
              "      <td>...</td>\n",
              "      <td>...</td>\n",
              "      <td>...</td>\n",
              "      <td>...</td>\n",
              "      <td>...</td>\n",
              "      <td>...</td>\n",
              "      <td>...</td>\n",
              "      <td>...</td>\n",
              "      <td>...</td>\n",
              "      <td>...</td>\n",
              "      <td>...</td>\n",
              "      <td>...</td>\n",
              "      <td>...</td>\n",
              "      <td>...</td>\n",
              "      <td>...</td>\n",
              "      <td>...</td>\n",
              "      <td>...</td>\n",
              "      <td>...</td>\n",
              "      <td>...</td>\n",
              "      <td>...</td>\n",
              "      <td>...</td>\n",
              "    </tr>\n",
              "    <tr>\n",
              "      <th>495</th>\n",
              "      <td>-37.989869</td>\n",
              "      <td>-41.713767</td>\n",
              "      <td>2.459257</td>\n",
              "      <td>-18.563966</td>\n",
              "      <td>10.269036</td>\n",
              "      <td>3.038211</td>\n",
              "      <td>1.550653</td>\n",
              "      <td>-0.189344</td>\n",
              "      <td>-0.751047</td>\n",
              "      <td>1.012805</td>\n",
              "      <td>...</td>\n",
              "      <td>0.611614</td>\n",
              "      <td>0.036895</td>\n",
              "      <td>0.012290</td>\n",
              "      <td>-0.002122</td>\n",
              "      <td>0.008175</td>\n",
              "      <td>-0.005592</td>\n",
              "      <td>-0.001898</td>\n",
              "      <td>0.001522</td>\n",
              "      <td>-0.003168</td>\n",
              "      <td>0.002822</td>\n",
              "    </tr>\n",
              "    <tr>\n",
              "      <th>496</th>\n",
              "      <td>35.368724</td>\n",
              "      <td>13.274417</td>\n",
              "      <td>25.765836</td>\n",
              "      <td>16.590896</td>\n",
              "      <td>16.788150</td>\n",
              "      <td>-4.158306</td>\n",
              "      <td>-2.272719</td>\n",
              "      <td>-0.405383</td>\n",
              "      <td>-0.890507</td>\n",
              "      <td>0.789867</td>\n",
              "      <td>...</td>\n",
              "      <td>-0.310168</td>\n",
              "      <td>0.005494</td>\n",
              "      <td>0.002591</td>\n",
              "      <td>-0.007609</td>\n",
              "      <td>-0.018611</td>\n",
              "      <td>-0.015152</td>\n",
              "      <td>0.006615</td>\n",
              "      <td>-0.029981</td>\n",
              "      <td>0.001027</td>\n",
              "      <td>-0.009549</td>\n",
              "    </tr>\n",
              "    <tr>\n",
              "      <th>497</th>\n",
              "      <td>11.967915</td>\n",
              "      <td>-12.953299</td>\n",
              "      <td>12.041033</td>\n",
              "      <td>26.324118</td>\n",
              "      <td>-5.507208</td>\n",
              "      <td>-5.081141</td>\n",
              "      <td>-2.957512</td>\n",
              "      <td>-0.192481</td>\n",
              "      <td>-0.471128</td>\n",
              "      <td>1.805245</td>\n",
              "      <td>...</td>\n",
              "      <td>0.304216</td>\n",
              "      <td>-0.013944</td>\n",
              "      <td>0.001411</td>\n",
              "      <td>0.001312</td>\n",
              "      <td>-0.013690</td>\n",
              "      <td>0.004011</td>\n",
              "      <td>-0.005129</td>\n",
              "      <td>-0.003984</td>\n",
              "      <td>0.014273</td>\n",
              "      <td>-0.004101</td>\n",
              "    </tr>\n",
              "    <tr>\n",
              "      <th>498</th>\n",
              "      <td>18.084091</td>\n",
              "      <td>39.077455</td>\n",
              "      <td>-14.063225</td>\n",
              "      <td>0.243868</td>\n",
              "      <td>8.959267</td>\n",
              "      <td>-3.140359</td>\n",
              "      <td>0.593813</td>\n",
              "      <td>-0.255880</td>\n",
              "      <td>0.177206</td>\n",
              "      <td>-0.318839</td>\n",
              "      <td>...</td>\n",
              "      <td>-0.195758</td>\n",
              "      <td>0.004512</td>\n",
              "      <td>0.016781</td>\n",
              "      <td>-0.026674</td>\n",
              "      <td>-0.006636</td>\n",
              "      <td>0.003152</td>\n",
              "      <td>0.002998</td>\n",
              "      <td>-0.014162</td>\n",
              "      <td>0.026074</td>\n",
              "      <td>-0.001124</td>\n",
              "    </tr>\n",
              "    <tr>\n",
              "      <th>499</th>\n",
              "      <td>22.730256</td>\n",
              "      <td>47.301126</td>\n",
              "      <td>-19.027558</td>\n",
              "      <td>-11.381165</td>\n",
              "      <td>4.256330</td>\n",
              "      <td>5.302940</td>\n",
              "      <td>-6.074962</td>\n",
              "      <td>1.838546</td>\n",
              "      <td>0.352359</td>\n",
              "      <td>-0.476008</td>\n",
              "      <td>...</td>\n",
              "      <td>-0.333881</td>\n",
              "      <td>-0.040289</td>\n",
              "      <td>-0.006182</td>\n",
              "      <td>-0.012335</td>\n",
              "      <td>0.003431</td>\n",
              "      <td>-0.041652</td>\n",
              "      <td>0.002169</td>\n",
              "      <td>0.018674</td>\n",
              "      <td>-0.022432</td>\n",
              "      <td>-0.011616</td>\n",
              "    </tr>\n",
              "  </tbody>\n",
              "</table>\n",
              "<p>500 rows × 23 columns</p>\n",
              "</div>"
            ],
            "text/plain": [
              "             1          2          3          4          6        21  \\\n",
              "0    -0.835719  45.240515 -22.585658   1.450320  12.376342  5.340506   \n",
              "1    24.930703  -7.485562  40.737762  21.400170   4.467203 -0.664091   \n",
              "2   -49.823448 -35.062080   1.698937 -18.012227   9.210336  1.058435   \n",
              "3    19.211767  -4.858507  10.484105  16.622411 -14.876963  5.731974   \n",
              "4   -23.951574 -55.340413  -7.879883 -16.304009  11.326496  0.944216   \n",
              "..         ...        ...        ...        ...        ...       ...   \n",
              "495 -37.989869 -41.713767   2.459257 -18.563966  10.269036  3.038211   \n",
              "496  35.368724  13.274417  25.765836  16.590896  16.788150 -4.158306   \n",
              "497  11.967915 -12.953299  12.041033  26.324118  -5.507208 -5.081141   \n",
              "498  18.084091  39.077455 -14.063225   0.243868   8.959267 -3.140359   \n",
              "499  22.730256  47.301126 -19.027558 -11.381165   4.256330  5.302940   \n",
              "\n",
              "           22        24        26        27  ...        52       195  \\\n",
              "0    4.969415  0.006403  2.757404 -4.199367  ...  0.858496  0.091524   \n",
              "1   -0.704199 -0.143260  0.759895 -1.871914  ...  1.082967  0.037623   \n",
              "2    0.512906 -1.047310  0.174719 -0.553932  ... -0.276563 -0.026008   \n",
              "3    2.426062  0.490418  0.651300 -2.345693  ... -0.510875 -0.024173   \n",
              "4    0.164863 -0.310109 -0.479923  0.770741  ...  0.874432 -0.001021   \n",
              "..        ...       ...       ...       ...  ...       ...       ...   \n",
              "495  1.550653 -0.189344 -0.751047  1.012805  ...  0.611614  0.036895   \n",
              "496 -2.272719 -0.405383 -0.890507  0.789867  ... -0.310168  0.005494   \n",
              "497 -2.957512 -0.192481 -0.471128  1.805245  ...  0.304216 -0.013944   \n",
              "498  0.593813 -0.255880  0.177206 -0.318839  ... -0.195758  0.004512   \n",
              "499 -6.074962  1.838546  0.352359 -0.476008  ... -0.333881 -0.040289   \n",
              "\n",
              "          230       237       242       253       266       271       278  \\\n",
              "0   -0.022237 -0.059711 -0.041133 -0.131693 -0.033784  0.036059 -0.002446   \n",
              "1    0.006825 -0.018006 -0.014838  0.008109 -0.009541  0.007244 -0.002811   \n",
              "2   -0.014705 -0.003170  0.022468  0.008048  0.007464  0.003256  0.006237   \n",
              "3    0.012493 -0.041638  0.020318 -0.015969  0.032869  0.015402 -0.003125   \n",
              "4    0.001079 -0.011153 -0.006150 -0.003900  0.003707  0.002279  0.000423   \n",
              "..        ...       ...       ...       ...       ...       ...       ...   \n",
              "495  0.012290 -0.002122  0.008175 -0.005592 -0.001898  0.001522 -0.003168   \n",
              "496  0.002591 -0.007609 -0.018611 -0.015152  0.006615 -0.029981  0.001027   \n",
              "497  0.001411  0.001312 -0.013690  0.004011 -0.005129 -0.003984  0.014273   \n",
              "498  0.016781 -0.026674 -0.006636  0.003152  0.002998 -0.014162  0.026074   \n",
              "499 -0.006182 -0.012335  0.003431 -0.041652  0.002169  0.018674 -0.022432   \n",
              "\n",
              "          285  \n",
              "0   -0.009772  \n",
              "1   -0.007571  \n",
              "2   -0.002011  \n",
              "3   -0.016088  \n",
              "4    0.001455  \n",
              "..        ...  \n",
              "495  0.002822  \n",
              "496 -0.009549  \n",
              "497 -0.004101  \n",
              "498 -0.001124  \n",
              "499 -0.011616  \n",
              "\n",
              "[500 rows x 23 columns]"
            ]
          },
          "execution_count": 14,
          "metadata": {},
          "output_type": "execute_result"
        }
      ],
      "source": [
        "idx = ['1', '2', '3', '4', '6', '21', '22', '24', '26', '27', '29', '30','34','52','195','230','237','242', '253', '266', '271', '278', '285']\n",
        "new_df = df[idx]\n",
        "# new_df.isna().sum()\n",
        "new_df.head(5000)"
      ]
    },
    {
      "cell_type": "code",
      "execution_count": 15,
      "metadata": {},
      "outputs": [],
      "source": [
        "X = np.hstack([new_df])\n",
        "y = df['Eat']\n",
        "\n",
        "X_train, X_test = train_test_split(X, test_size=0.7, train_size=0.3, random_state=207)\n",
        "y_train, y_test = train_test_split(y, test_size=0.7, train_size=0.3, random_state=207)"
      ]
    },
    {
      "cell_type": "markdown",
      "metadata": {
        "id": "3gLBvPQsDI0X"
      },
      "source": [
        "Теперь обучите простейшую нейронную сеть на уменьшенном датасете, сравните результат с результатами обучения других моделей."
      ]
    },
    {
      "cell_type": "code",
      "execution_count": 16,
      "metadata": {
        "id": "qbTTQzitEYZL"
      },
      "outputs": [],
      "source": [
        "model = nn.Sequential(  # задаем нейронную сеть\n",
        "    nn.Linear(in_features=len(idx), out_features=1),\n",
        "    )\n",
        "\n",
        "# for p in model.parameters():  # Инициализируем веса\n",
        "#     p.data = torch.FloatTensor([[0]])\n",
        "#     # print(p.data)"
      ]
    },
    {
      "cell_type": "code",
      "execution_count": 17,
      "metadata": {},
      "outputs": [
        {
          "data": {
            "text/plain": [
              "(torch.Size([500, 23]), torch.Size([500, 1]))"
            ]
          },
          "execution_count": 17,
          "metadata": {},
          "output_type": "execute_result"
        }
      ],
      "source": [
        "data = np.hstack([new_df])\n",
        "target = df['Eat']\n",
        "# print(data)\n",
        "\n",
        "x = torch.FloatTensor(data)\n",
        "# print(x)\n",
        "y = torch.FloatTensor(target).reshape(-1, 1)\n",
        "\n",
        "x.shape, y.shape  # не одинаковая размерность"
      ]
    },
    {
      "cell_type": "code",
      "execution_count": 18,
      "metadata": {},
      "outputs": [
        {
          "data": {
            "text/plain": [
              "(torch.Size([400, 23]), torch.Size([400, 1]))"
            ]
          },
          "execution_count": 18,
          "metadata": {},
          "output_type": "execute_result"
        }
      ],
      "source": [
        "X_train, X_val = train_test_split(x, test_size=0.2, train_size=0.8, random_state=207)\n",
        "y_train, y_val = train_test_split(y, test_size=0.2, train_size=0.8, random_state=207)\n",
        "X_train.shape, y_train.shape"
      ]
    },
    {
      "cell_type": "code",
      "execution_count": 19,
      "metadata": {
        "id": "Ijtz-8UrE7mM"
      },
      "outputs": [],
      "source": [
        "optim_func = nn.MSELoss()\n",
        "optimizer = optim.SGD(model.parameters(), lr=0.0001)"
      ]
    },
    {
      "cell_type": "code",
      "execution_count": 20,
      "metadata": {
        "colab": {
          "base_uri": "https://localhost:8080/"
        },
        "id": "u94Sntm2E7L1",
        "outputId": "a5d9913d-5468-4812-c004-2942b3c473b2"
      },
      "outputs": [],
      "source": [
        "def show_progress(x, y, y_pred, loss, y_val):\n",
        "    '''\n",
        "    Визуализация процесса обучения.\n",
        "\n",
        "    x, y -- объекты и таргеты обучающей выборки;\n",
        "    y_pred -- предсказания модели;\n",
        "    loss -- текущее значение ошибки модели.\n",
        "    '''\n",
        "\n",
        "    # Открепим переменную от вычислительного графа перед отрисовкой графика\n",
        "    y_pred = y_pred.detach()\n",
        "\n",
        "    # Превратим тензор размерности 0 в число\n",
        "    loss = loss.item()\n",
        "\n",
        "    # Стираем предыдущий вывод в тот момент, когда появится следующий\n",
        "    clear_output(wait=True)\n",
        "\n",
        "    # Строим новый график\n",
        "\n",
        "    # X = x[:, 1].reshape(-1, 1)\n",
        "    # print(y_pred)\n",
        "    # plt.figure(figsize=(10, 7))\n",
        "    # plt.scatter(X, y, alpha=0.75)\n",
        "    # plt.scatter(X, y_pred, color='orange', linewidth=5)\n",
        "    # plt.xlabel('% населения с низким уровнем дохода')\n",
        "    # plt.title('Медианная стоимость домов в тыс. $')\n",
        "    # plt.show()\n",
        "    with torch.no_grad():\n",
        "        y_pred = model(torch.FloatTensor(X_val)).numpy()\n",
        "        print(f'R2: {round(r2_score(y_val, y_pred), 2)} \\nMAPE: {round(mean_absolute_percentage_error(y_val, y_pred), 2)}')\n",
        "\n",
        "    # print(f\"MSE = {loss:.3f}\")"
      ]
    },
    {
      "cell_type": "code",
      "execution_count": 21,
      "metadata": {},
      "outputs": [
        {
          "name": "stdout",
          "output_type": "stream",
          "text": [
            "R2: 0.5 \n",
            "MAPE: 0.18000000715255737\n"
          ]
        }
      ],
      "source": [
        "num_iter = 10000\n",
        "\n",
        "for i in range(num_iter):\n",
        "    # Шаг 1. \n",
        "    # Forward pass: предсказание модели по обучающим данным\n",
        "    y_pred = model(X_train)\n",
        "    # print(y_pred)\n",
        "    \n",
        "    # Шаг 2. \n",
        "    # Вычисление оптимизируемой функции (MSE) по предсказаниям\n",
        "    loss = optim_func(y_pred, y_train)\n",
        "    \n",
        "    # Шаг 3.\n",
        "    # Backward pass: вычисление градиентов оптимизируемой функции\n",
        "    # по всем параметрам модели\n",
        "    loss.backward()\n",
        "\n",
        "    # Шаг 4.\n",
        "    # Оптимизация: обновление параметров по формулам соответствующего\n",
        "    # метода оптимизации, используются вычисленные ранее градиенты\n",
        "    optimizer.step()\n",
        "\n",
        "    # Зануление градиентов\n",
        "    optimizer.zero_grad()\n",
        "    \n",
        "    \n",
        "    # График + вывод MSE через каждые 10 итераций\n",
        "    if (i + 1) % 500 == 0:\n",
        "        show_progress(X_train, y_train, y_pred, loss, y_val)"
      ]
    },
    {
      "cell_type": "code",
      "execution_count": 22,
      "metadata": {},
      "outputs": [],
      "source": [
        "# print(f'Значение MSE на валидационной выборке: {optim_func(model(X_val), y_val).item():.3}')"
      ]
    },
    {
      "cell_type": "code",
      "execution_count": 23,
      "metadata": {
        "colab": {
          "base_uri": "https://localhost:8080/"
        },
        "id": "f14nTbjyFY3a",
        "outputId": "12b632d3-4a3d-4235-89bb-5931faf2d9bf"
      },
      "outputs": [
        {
          "name": "stdout",
          "output_type": "stream",
          "text": [
            "R2: 0.5 \n",
            "MAPE: 0.18000000715255737\n"
          ]
        }
      ],
      "source": [
        "with torch.no_grad():\n",
        "    y_pred_ = model(torch.FloatTensor(X_val)).numpy()\n",
        "\n",
        "print(f'R2: {round(r2_score(y_val, y_pred_), 2)} \\nMAPE: {round(mean_absolute_percentage_error(y_val, y_pred_), 2)}')"
      ]
    },
    {
      "cell_type": "markdown",
      "metadata": {
        "id": "B_SYdVr1IGR5"
      },
      "source": [
        "**Вопрос:** объясните полученный результат.\n",
        "\n",
        "Результат получился примерно такой же как и у lasso с параметрами, которые мы подобрали наилучшим образом (она их не занулила). С этими параметрами lasso может делать только линейные преобразование, собственно как и нейросеть с одним линейным слоем. А так как мы обучали ее достаточно долго, мы получили хорошие коэффициенты. \n",
        "\n",
        "Чтобы перейти к выводу посмотрим на все виды регуляризаций на новых параметрах"
      ]
    },
    {
      "cell_type": "code",
      "execution_count": 24,
      "metadata": {},
      "outputs": [],
      "source": [
        "alphas = np.logspace(-4, 0, 20)\n",
        "\n",
        "# draw_errors(r2_score, \"r2_score\", alphas, X_train, y_train, X_test, y_test)\n",
        "# draw_errors(mean_absolute_percentage_error, \"MAPE\", alphas, X_train, y_train, X_test, y_test)"
      ]
    },
    {
      "cell_type": "markdown",
      "metadata": {
        "id": "W_YpL1ipFYm1"
      },
      "source": [
        "Сравните все модели, поясняя полученные результаты и значения метрик.\n",
        "\n",
        "**Вывод:**  Запишем результаты на новых параметрах. У первых 4 одинаковые r2 = 0.88, MAPE = 10%.\n",
        "1) Линейная регрессия: мастхев когда нет мультиколлинеарности\n",
        "2) Ridge: Она помогает сглаживать скачки, в данной работе не особо актуальна\n",
        "3) Lasso: Она хороша в тех случаях, когда нужно выбрать конкретные параметры, которые наилучшим образом связаны с таргетом\n",
        "4) Elastic net: золотая середина между lasso и ridge. вместо lasso в этой работе мы могли бы использовать и ее.\n",
        "\n",
        "5) NN с одним линейным слоем: r2 = 0.83, MAPE = 11%. Результаты похожи на обычную линейную модель, собственно - это и есть простейший тип, который мы использовали. Ее преимущество в том, что не нужно искать подходящие параметры регуляризации, а недостаток - на обучение может уйти большое колличество шагов.\n"
      ]
    },
    {
      "cell_type": "markdown",
      "metadata": {
        "id": "yukG_GKL1_hS"
      },
      "source": [
        "---\n",
        "### Задача 2\n",
        "#### *Профиль физика*\n",
        "\n",
        "Скачайте [датасет](https://drive.google.com/file/d/1QqYK7Go96vR4l66MShlUuXxY0_FaBcYB/view?usp=sharing), описывающий распады Z-бозонов двух типов: `Zee`и `Zmumu`. Создайте и обучите нейросеть, разделяющую эти два класса.\n",
        "\n",
        "[Описание датасета](https://www.kaggle.com/datasets/omidbaghchehsaraei/identification-of-two-modes-of-z-boson?resource=download)\n"
      ]
    },
    {
      "cell_type": "code",
      "execution_count": 25,
      "metadata": {
        "colab": {
          "base_uri": "https://localhost:8080/",
          "height": 206
        },
        "id": "ZODZ-xSva-Oc",
        "outputId": "de436221-0473-4cd1-be0c-69c70e84c532"
      },
      "outputs": [
        {
          "data": {
            "text/plain": [
              "class\n",
              "Zmumu    10000\n",
              "Zee      10000\n",
              "Name: count, dtype: int64"
            ]
          },
          "execution_count": 25,
          "metadata": {},
          "output_type": "execute_result"
        }
      ],
      "source": [
        "data = pd.read_csv('Z_boson.csv')\n",
        "data.head()\n",
        "data['class'].value_counts()"
      ]
    },
    {
      "cell_type": "markdown",
      "metadata": {
        "id": "4E3mrI6BNF4r"
      },
      "source": [
        "Удалите столбцы `Unnamed: 0`, `Run` и `Event`, так как это не физические величины. Удалите строки, где есть пропуски, если таковые имеются."
      ]
    },
    {
      "cell_type": "code",
      "execution_count": 26,
      "metadata": {
        "colab": {
          "base_uri": "https://localhost:8080/"
        },
        "id": "xoCSmenbM5zU",
        "outputId": "6acd1b99-9634-4be4-8b73-48c9ec78fbe0"
      },
      "outputs": [
        {
          "data": {
            "text/plain": [
              "pt1      0\n",
              "eta1     0\n",
              "phi1     0\n",
              "Q1       0\n",
              "pt2      0\n",
              "eta2     0\n",
              "phi2     0\n",
              "Q2       0\n",
              "class    0\n",
              "dtype: int64"
            ]
          },
          "execution_count": 26,
          "metadata": {},
          "output_type": "execute_result"
        }
      ],
      "source": [
        "new_data = data.drop([\"Run\", \"Unnamed: 0\", \"Event\"], axis=1)\n",
        "new_data.isna().sum()"
      ]
    },
    {
      "cell_type": "markdown",
      "metadata": {
        "id": "QzhmUYMtSWnx"
      },
      "source": [
        "Также можно как-нибудь взглянуть на признаки. Возможно, не все они вносят вклад в разделение классов. Не забудьте преобразовать таргет (столбец `class`) к формату 0 и 1. Вам может пригодиться `sklearn.preprocessing.LabelBinarizer`.\n"
      ]
    },
    {
      "cell_type": "code",
      "execution_count": 27,
      "metadata": {
        "colab": {
          "base_uri": "https://localhost:8080/",
          "height": 891
        },
        "id": "66R0_0cYPfah",
        "outputId": "00c0e1b0-125c-4d86-f0d4-2627d0460cb7"
      },
      "outputs": [
        {
          "data": {
            "text/html": [
              "<div>\n",
              "<style scoped>\n",
              "    .dataframe tbody tr th:only-of-type {\n",
              "        vertical-align: middle;\n",
              "    }\n",
              "\n",
              "    .dataframe tbody tr th {\n",
              "        vertical-align: top;\n",
              "    }\n",
              "\n",
              "    .dataframe thead th {\n",
              "        text-align: right;\n",
              "    }\n",
              "</style>\n",
              "<table border=\"1\" class=\"dataframe\">\n",
              "  <thead>\n",
              "    <tr style=\"text-align: right;\">\n",
              "      <th></th>\n",
              "      <th>pt1</th>\n",
              "      <th>eta1</th>\n",
              "      <th>phi1</th>\n",
              "      <th>Q1</th>\n",
              "      <th>pt2</th>\n",
              "      <th>eta2</th>\n",
              "      <th>phi2</th>\n",
              "      <th>Q2</th>\n",
              "      <th>class</th>\n",
              "    </tr>\n",
              "  </thead>\n",
              "  <tbody>\n",
              "    <tr>\n",
              "      <th>0</th>\n",
              "      <td>42.9130</td>\n",
              "      <td>-1.3248</td>\n",
              "      <td>-3.0057</td>\n",
              "      <td>-1</td>\n",
              "      <td>42.2897</td>\n",
              "      <td>-0.6624</td>\n",
              "      <td>0.3485</td>\n",
              "      <td>1</td>\n",
              "      <td>1</td>\n",
              "    </tr>\n",
              "    <tr>\n",
              "      <th>1</th>\n",
              "      <td>39.8744</td>\n",
              "      <td>-0.0057</td>\n",
              "      <td>-0.7744</td>\n",
              "      <td>-1</td>\n",
              "      <td>36.3997</td>\n",
              "      <td>1.3710</td>\n",
              "      <td>2.2952</td>\n",
              "      <td>1</td>\n",
              "      <td>0</td>\n",
              "    </tr>\n",
              "    <tr>\n",
              "      <th>2</th>\n",
              "      <td>72.9296</td>\n",
              "      <td>-0.4162</td>\n",
              "      <td>0.9198</td>\n",
              "      <td>1</td>\n",
              "      <td>39.5410</td>\n",
              "      <td>-0.2680</td>\n",
              "      <td>-1.4629</td>\n",
              "      <td>1</td>\n",
              "      <td>0</td>\n",
              "    </tr>\n",
              "    <tr>\n",
              "      <th>3</th>\n",
              "      <td>33.4436</td>\n",
              "      <td>0.3063</td>\n",
              "      <td>-1.6034</td>\n",
              "      <td>1</td>\n",
              "      <td>27.2395</td>\n",
              "      <td>-1.6182</td>\n",
              "      <td>1.5315</td>\n",
              "      <td>-1</td>\n",
              "      <td>0</td>\n",
              "    </tr>\n",
              "    <tr>\n",
              "      <th>4</th>\n",
              "      <td>43.9826</td>\n",
              "      <td>0.4276</td>\n",
              "      <td>-0.3876</td>\n",
              "      <td>-1</td>\n",
              "      <td>29.7856</td>\n",
              "      <td>-0.3080</td>\n",
              "      <td>2.8965</td>\n",
              "      <td>1</td>\n",
              "      <td>1</td>\n",
              "    </tr>\n",
              "    <tr>\n",
              "      <th>...</th>\n",
              "      <td>...</td>\n",
              "      <td>...</td>\n",
              "      <td>...</td>\n",
              "      <td>...</td>\n",
              "      <td>...</td>\n",
              "      <td>...</td>\n",
              "      <td>...</td>\n",
              "      <td>...</td>\n",
              "      <td>...</td>\n",
              "    </tr>\n",
              "    <tr>\n",
              "      <th>19995</th>\n",
              "      <td>39.1588</td>\n",
              "      <td>0.0434</td>\n",
              "      <td>2.8371</td>\n",
              "      <td>-1</td>\n",
              "      <td>48.0734</td>\n",
              "      <td>-0.8716</td>\n",
              "      <td>-0.7647</td>\n",
              "      <td>1</td>\n",
              "      <td>1</td>\n",
              "    </tr>\n",
              "    <tr>\n",
              "      <th>19996</th>\n",
              "      <td>38.4240</td>\n",
              "      <td>-1.3922</td>\n",
              "      <td>-1.9531</td>\n",
              "      <td>-1</td>\n",
              "      <td>30.3328</td>\n",
              "      <td>-0.9045</td>\n",
              "      <td>0.8390</td>\n",
              "      <td>1</td>\n",
              "      <td>1</td>\n",
              "    </tr>\n",
              "    <tr>\n",
              "      <th>19997</th>\n",
              "      <td>35.2640</td>\n",
              "      <td>-2.2673</td>\n",
              "      <td>-0.3794</td>\n",
              "      <td>-1</td>\n",
              "      <td>37.2768</td>\n",
              "      <td>-1.8151</td>\n",
              "      <td>2.9126</td>\n",
              "      <td>-1</td>\n",
              "      <td>0</td>\n",
              "    </tr>\n",
              "    <tr>\n",
              "      <th>19998</th>\n",
              "      <td>38.9526</td>\n",
              "      <td>-2.2869</td>\n",
              "      <td>1.4960</td>\n",
              "      <td>-1</td>\n",
              "      <td>48.5297</td>\n",
              "      <td>-2.1804</td>\n",
              "      <td>-1.0817</td>\n",
              "      <td>1</td>\n",
              "      <td>0</td>\n",
              "    </tr>\n",
              "    <tr>\n",
              "      <th>19999</th>\n",
              "      <td>37.9928</td>\n",
              "      <td>-1.3286</td>\n",
              "      <td>-2.3479</td>\n",
              "      <td>-1</td>\n",
              "      <td>42.4471</td>\n",
              "      <td>0.0332</td>\n",
              "      <td>0.6631</td>\n",
              "      <td>1</td>\n",
              "      <td>1</td>\n",
              "    </tr>\n",
              "  </tbody>\n",
              "</table>\n",
              "<p>20000 rows × 9 columns</p>\n",
              "</div>"
            ],
            "text/plain": [
              "           pt1    eta1    phi1  Q1      pt2    eta2    phi2  Q2  class\n",
              "0      42.9130 -1.3248 -3.0057  -1  42.2897 -0.6624  0.3485   1      1\n",
              "1      39.8744 -0.0057 -0.7744  -1  36.3997  1.3710  2.2952   1      0\n",
              "2      72.9296 -0.4162  0.9198   1  39.5410 -0.2680 -1.4629   1      0\n",
              "3      33.4436  0.3063 -1.6034   1  27.2395 -1.6182  1.5315  -1      0\n",
              "4      43.9826  0.4276 -0.3876  -1  29.7856 -0.3080  2.8965   1      1\n",
              "...        ...     ...     ...  ..      ...     ...     ...  ..    ...\n",
              "19995  39.1588  0.0434  2.8371  -1  48.0734 -0.8716 -0.7647   1      1\n",
              "19996  38.4240 -1.3922 -1.9531  -1  30.3328 -0.9045  0.8390   1      1\n",
              "19997  35.2640 -2.2673 -0.3794  -1  37.2768 -1.8151  2.9126  -1      0\n",
              "19998  38.9526 -2.2869  1.4960  -1  48.5297 -2.1804 -1.0817   1      0\n",
              "19999  37.9928 -1.3286 -2.3479  -1  42.4471  0.0332  0.6631   1      1\n",
              "\n",
              "[20000 rows x 9 columns]"
            ]
          },
          "execution_count": 27,
          "metadata": {},
          "output_type": "execute_result"
        }
      ],
      "source": [
        "# таргет преобразуем из строк \"Zee\", \"Zmumu\" к 0 и 1\n",
        "lb = LabelBinarizer()\n",
        "new_class = lb.fit_transform(new_data[\"class\"])\n",
        "\n",
        "new_data[\"class\"] = new_class\n",
        "new_data"
      ]
    },
    {
      "cell_type": "code",
      "execution_count": 28,
      "metadata": {},
      "outputs": [],
      "source": [
        "# plt.figure(figsize=(20, 10))\n",
        "# sns.set_theme(font_scale=2.0)\n",
        "# sns.pairplot(new_data, hue=\"class\", palette=\"deep\")"
      ]
    },
    {
      "cell_type": "markdown",
      "metadata": {},
      "source": [
        "Какие признаки вы бы использовали для разделения людей по классам? Выберите эти столбцы и создайте наборы train и test с помощью функции train_test_split, а также выделите набор данных для валидации при обучении."
      ]
    },
    {
      "cell_type": "code",
      "execution_count": 29,
      "metadata": {
        "id": "wgja_o782UCh"
      },
      "outputs": [
        {
          "data": {
            "text/plain": [
              "(torch.Size([20000, 5]), torch.Size([20000, 1]))"
            ]
          },
          "execution_count": 29,
          "metadata": {},
          "output_type": "execute_result"
        }
      ],
      "source": [
        "# исходя из графиков, отберём признаки для обучения\n",
        "\n",
        "selected_features = [\"pt1\", \"eta1\", \"phi1\", \"eta2\", \"phi2\"]\n",
        "X = new_data[selected_features]\n",
        "# X = np.hstack([new_data.drop(\"class\", axis=1)])\n",
        "y = new_data['class']\n",
        "\n",
        "x = torch.FloatTensor(X.to_numpy())\n",
        "# x = torch.FloatTensor(X)\n",
        "\n",
        "y = torch.FloatTensor(y).reshape(-1, 1)\n",
        "\n",
        "x.shape, y.shape"
      ]
    },
    {
      "cell_type": "code",
      "execution_count": 30,
      "metadata": {},
      "outputs": [
        {
          "data": {
            "text/plain": [
              "(tensor([[35.7419, -0.3256,  1.9277, -0.3605, -1.1786],\n",
              "         [34.2452, -1.4972,  1.0526,  0.1967, -2.8406],\n",
              "         [ 7.0543, -1.4771, -1.0603,  1.9855,  2.3577],\n",
              "         ...,\n",
              "         [55.2005, -1.6384, -0.7908, -2.1441,  2.1826],\n",
              "         [37.3805,  0.4126, -2.7830,  0.2806,  0.3091],\n",
              "         [26.1712, -0.2927, -0.2974, -2.1584,  0.5036]]),\n",
              " tensor([[40.0141, -1.5498,  3.0188, -0.6210, -0.5503],\n",
              "         [47.2264, -1.1400,  0.4997, -0.7974, -2.8404],\n",
              "         [41.1879,  1.0513, -0.4234,  1.0693,  2.8072],\n",
              "         ...,\n",
              "         [27.0348, -1.0784, -0.6548,  0.8728,  2.5905],\n",
              "         [24.3280, -2.2894, -0.2109, -0.1404,  2.9382],\n",
              "         [41.3674,  0.7384, -1.3582,  0.6997,  1.9086]]))"
            ]
          },
          "execution_count": 30,
          "metadata": {},
          "output_type": "execute_result"
        }
      ],
      "source": [
        "X_train, X_test = train_test_split(x, train_size=0.7, random_state=207)\n",
        "y_train, y_test = train_test_split(y, train_size=0.7, random_state=207)\n",
        "X_val, X_test = train_test_split(X_test, train_size=0.3, random_state=207)\n",
        "y_val, y_test  = train_test_split(y_test, train_size=0.3, random_state=207)\n",
        "\n",
        "X_train, X_test"
      ]
    },
    {
      "cell_type": "markdown",
      "metadata": {},
      "source": [
        "**Переходите к общей части.**"
      ]
    },
    {
      "cell_type": "markdown",
      "metadata": {
        "id": "uehpM9ZNRRKo"
      },
      "source": [
        "### Профиль биология\n",
        "\n",
        "Скачайте [датасет](https://miptstats.github.io/courses/ad_mipt.html), описывающий влияние курения и алкоголя на человека. Создайте и обучите нейросеть, разделяющую эти два класса.\n",
        "\n",
        "[Описание датасета](https://www.kaggle.com/datasets/sooyoungher/smoking-drinking-dataset)"
      ]
    },
    {
      "cell_type": "code",
      "execution_count": 31,
      "metadata": {
        "id": "yroWNuBZt37x"
      },
      "outputs": [],
      "source": [
        "# df = pd.read_csv(\"smoking_driking_dataset_Ver01.csv\")"
      ]
    },
    {
      "cell_type": "code",
      "execution_count": 32,
      "metadata": {
        "colab": {
          "base_uri": "https://localhost:8080/",
          "height": 349
        },
        "id": "-oKe27HiuM2R",
        "outputId": "064958d3-b64d-4eb2-b2da-90180d2244dd"
      },
      "outputs": [],
      "source": [
        "# df.describe()"
      ]
    },
    {
      "cell_type": "code",
      "execution_count": 33,
      "metadata": {
        "colab": {
          "base_uri": "https://localhost:8080/"
        },
        "id": "SYdgrbqsuSbT",
        "outputId": "2cce2366-9380-4273-90b7-b36f0b2f3585"
      },
      "outputs": [],
      "source": [
        "# df.columns, df.shape"
      ]
    },
    {
      "cell_type": "code",
      "execution_count": 34,
      "metadata": {
        "id": "-1c1VgqDuXKN"
      },
      "outputs": [],
      "source": [
        "# column_names = df.columns[1:-2]# нам не нужны гендер и таргеты сейчас"
      ]
    },
    {
      "cell_type": "code",
      "execution_count": 35,
      "metadata": {
        "colab": {
          "base_uri": "https://localhost:8080/"
        },
        "id": "6cAFyKpTuqSg",
        "outputId": "7d7bfae4-05d6-4733-a5da-349b1f81125d"
      },
      "outputs": [],
      "source": [
        "# column_names"
      ]
    },
    {
      "cell_type": "markdown",
      "metadata": {
        "id": "9f4jgeTtk59Q"
      },
      "source": [
        "Попробуем классифицировать людей с плохими привычками и без них, чтобы облегчить нам задачу. Для этого создадим дополнительный столбец в таблице, который будет содержать информацию о том, имеет ли человек вредные привычки или нет."
      ]
    },
    {
      "cell_type": "code",
      "execution_count": 36,
      "metadata": {
        "id": "nY9FBycck5UU"
      },
      "outputs": [],
      "source": [
        "# def smoking_preprocessing(x):\n",
        "#   if x == 3 or x == 2:\n",
        "#     return 1\n",
        "#   else:\n",
        "#     return 0\n",
        "\n",
        "# def drinking_preprocessing(x):\n",
        "#   if x == 'Y':\n",
        "#     return 1\n",
        "#   # else:\n",
        "#     return 0"
      ]
    },
    {
      "cell_type": "code",
      "execution_count": 37,
      "metadata": {
        "id": "Rq1LLGtWl3ki"
      },
      "outputs": [],
      "source": [
        "# df['SMK_stat_type_cd'] = df['SMK_stat_type_cd'].apply(func = smoking_preprocessing)\n",
        "# df['DRK_YN'] = df['DRK_YN'].apply(func = drinking_preprocessing)"
      ]
    },
    {
      "cell_type": "code",
      "execution_count": 38,
      "metadata": {
        "id": "k7HT3JWEm597"
      },
      "outputs": [],
      "source": [
        "# df['bad_habits'] = df['DRK_YN']+df['SMK_stat_type_cd']-df['DRK_YN']*df['SMK_stat_type_cd']"
      ]
    },
    {
      "cell_type": "markdown",
      "metadata": {
        "id": "G9-eDwLSnPbd"
      },
      "source": [
        "Теперь смотрим на разделение по привычкам"
      ]
    },
    {
      "cell_type": "code",
      "execution_count": 39,
      "metadata": {
        "colab": {
          "base_uri": "https://localhost:8080/",
          "height": 868
        },
        "id": "Xt2lMxcVnPbf",
        "outputId": "6b9096dd-01bc-4ace-f2a3-ce378936f5ca"
      },
      "outputs": [],
      "source": [
        "# graph = sns.PairGrid(df.iloc[:1000], hue='bad_habits', vars = column_names[:7])\n",
        "# graph.map_upper(sns.scatterplot)\n",
        "# graph.map_lower(sns.kdeplot)\n",
        "# graph.map_diag(sns.kdeplot)\n",
        "# graph.add_legend()"
      ]
    },
    {
      "cell_type": "code",
      "execution_count": 40,
      "metadata": {
        "colab": {
          "base_uri": "https://localhost:8080/",
          "height": 873
        },
        "id": "8lbzL5H3nPbf",
        "outputId": "640905b4-d15b-40e7-f8bd-e00e78dbb60b"
      },
      "outputs": [],
      "source": [
        "# graph = sns.PairGrid(df.iloc[:1000], hue='bad_habits', vars = column_names[7:15])\n",
        "# graph.map_upper(sns.scatterplot)\n",
        "# graph.map_lower(sns.kdeplot)\n",
        "# graph.map_diag(sns.kdeplot)\n",
        "# graph.add_legend()"
      ]
    },
    {
      "cell_type": "code",
      "execution_count": 41,
      "metadata": {
        "colab": {
          "base_uri": "https://localhost:8080/",
          "height": 853
        },
        "id": "wJKDZTVYnPbf",
        "outputId": "ab236638-8068-4fca-eeba-8fd5b6a63a3b"
      },
      "outputs": [],
      "source": [
        "# graph = sns.PairGrid(df.iloc[:1000], hue='bad_habits', vars = column_names[15:])\n",
        "# graph.map_upper(sns.scatterplot)\n",
        "# graph.map_lower(sns.kdeplot)\n",
        "# graph.map_diag(sns.kdeplot)\n",
        "# graph.add_legend()"
      ]
    },
    {
      "cell_type": "code",
      "execution_count": 42,
      "metadata": {
        "id": "ciXaf81rI0OA"
      },
      "outputs": [],
      "source": [
        "# target_1 = df.pop('SMK_stat_type_cd')\n",
        "# target_2 = df.pop('DRK_YN')\n",
        "# target_3 = df.pop('bad_habits')"
      ]
    },
    {
      "cell_type": "markdown",
      "metadata": {
        "id": "gLKIv5opel5K"
      },
      "source": [
        "Какие признаки вы бы использовали для разделения людей по классам? Выберите эти столбцы и создайте наборы train и test с помощью функции train_test_split, а также выделите набор данных для валидации при обучении."
      ]
    },
    {
      "cell_type": "code",
      "execution_count": 43,
      "metadata": {
        "id": "yA_t_GwRekzM"
      },
      "outputs": [],
      "source": [
        "# исходя из графиков, отберём признаки для обучения (нас интересуют вредные привычки)\n",
        "# selected_features = [<...>]\n",
        "# X = data[selected_features]"
      ]
    },
    {
      "cell_type": "code",
      "execution_count": 44,
      "metadata": {
        "id": "bcUqqdZxcwN-"
      },
      "outputs": [],
      "source": [
        "# данных очень много, поэтому для экономии времени автор ноутбука отводит на обучение всего треть датасета\n",
        "# X_train, X_test, y_train, y_test = train_test_split(X, target_3, train_size=0.3)\n",
        "# X_val, X_test, y_val, y_test  = train_test_split(X_test, y_test, train_size=0.3)"
      ]
    },
    {
      "cell_type": "markdown",
      "metadata": {
        "id": "xuPQOf5HAUIA"
      },
      "source": [
        "## Общая часть"
      ]
    },
    {
      "cell_type": "markdown",
      "metadata": {},
      "source": [
        "Как вы помните, в задаче классификации предсказывается вероятность. На основании этой вероятности можно делать вывод о принадлежности объекта к тому или иному классу. Причём не всегда используется порог $P=0.5$. Например, если классы несбалансированы, это значение можно варьировать на интервале (0, 1). Предоставляем вам возможность самим выбрать этот порог и поэкспериментировать."
      ]
    },
    {
      "cell_type": "code",
      "execution_count": 45,
      "metadata": {
        "id": "dPrD9dlrEKLL"
      },
      "outputs": [],
      "source": [
        "class_lim_proba = 0.5 # критерий принадлежности к тому или иному классу"
      ]
    },
    {
      "cell_type": "markdown",
      "metadata": {
        "id": "dW6vXt5FHnW3"
      },
      "source": [
        "Стандартизируйте данные"
      ]
    },
    {
      "cell_type": "code",
      "execution_count": 46,
      "metadata": {
        "id": "gS-c8qg5-jqT"
      },
      "outputs": [],
      "source": [
        "scaler = StandardScaler()\n",
        "X_train = scaler.fit_transform(X_train)\n",
        "X_test = scaler.transform(X_test)\n",
        "\n",
        "# X_train\n",
        "X_train = torch.FloatTensor(X_train).reshape(-1, 5)\n",
        "X_test = torch.FloatTensor(X_test).reshape(-1, 5)\n",
        "\n"
      ]
    },
    {
      "cell_type": "code",
      "execution_count": 47,
      "metadata": {},
      "outputs": [
        {
          "data": {
            "text/plain": [
              "torch.Size([4200, 5])"
            ]
          },
          "execution_count": 47,
          "metadata": {},
          "output_type": "execute_result"
        }
      ],
      "source": [
        "X_test.shape"
      ]
    },
    {
      "cell_type": "markdown",
      "metadata": {
        "id": "ayu3JfBzsqC6"
      },
      "source": [
        "Напишем функцию для отрисовки кривых обучения. На одном графике расположим значение функции потерь на трейне и валидации, а на другом &mdash; значение метрики качества на ваш выбор, также для трейна и валидации."
      ]
    },
    {
      "cell_type": "code",
      "execution_count": 48,
      "metadata": {
        "id": "YJFrPQRAsjGz"
      },
      "outputs": [],
      "source": [
        "def plot_learning_curves(history):\n",
        "    '''\n",
        "    Функция для отображения лосса и метрики во время обучения.\n",
        "    '''\n",
        "    clear_output(wait=True)\n",
        "\n",
        "    fig = plt.figure(figsize=(20, 7))\n",
        "    fontsize = 15   # размер шрифта\n",
        "\n",
        "    plt.subplot(1,2,1)\n",
        "    plt.title('Лосс', fontsize=fontsize)\n",
        "    plt.plot(history['loss_train'], label='train')\n",
        "    plt.plot(history['loss_val'],   label='val')\n",
        "    plt.ylabel('лосс',  fontsize=fontsize)\n",
        "    plt.xlabel('эпоха', fontsize=fontsize)\n",
        "    plt.legend()\n",
        "\n",
        "    plt.subplot(1,2,2)\n",
        "    plt.title('Метрика', fontsize=fontsize)\n",
        "    plt.plot(history['metric_train'], label='train')\n",
        "    plt.plot(history['metric_val'],   label='val')\n",
        "    plt.ylabel('Значение метрики', fontsize=fontsize)\n",
        "    plt.xlabel('эпоха',    fontsize=fontsize)\n",
        "    plt.legend()\n",
        "    plt.show()"
      ]
    },
    {
      "cell_type": "markdown",
      "metadata": {},
      "source": [
        "Напишите функцию метрики, которую вы будете использовать, например accuracy."
      ]
    },
    {
      "cell_type": "code",
      "execution_count": 49,
      "metadata": {},
      "outputs": [],
      "source": [
        "def metric(y_true, y_pred):\n",
        "  metric = mean_absolute_percentage_error(y_true, y_pred)\n",
        "  return metric"
      ]
    },
    {
      "cell_type": "markdown",
      "metadata": {
        "id": "-KRqsqFXrOj_"
      },
      "source": [
        "#### Создание модели.\n",
        "В семинаре вы у промежуточных слоёв задавали `in_features = out_features = 1`, а в данном случае вам надо будет создать нейросеть из нескольких слоёв, поставив только у последнего из них `out_features = 1`.\n",
        "\n",
        "Какой должна быть размерность входа первого слоя?"
      ]
    },
    {
      "cell_type": "code",
      "execution_count": 50,
      "metadata": {
        "colab": {
          "base_uri": "https://localhost:8080/"
        },
        "id": "0TgKtRfVrLpb",
        "outputId": "a1a2f363-525d-4233-a38b-d225419e50d6"
      },
      "outputs": [],
      "source": [
        "model = nn.Sequential(  # задаем нейронную сеть\n",
        "    nn.Linear(in_features=len(selected_features), out_features=10),\n",
        "    nn.Sigmoid(),\n",
        "    nn.Linear(in_features=10, out_features=1),\n",
        "    nn.Sigmoid()\n",
        "    )\n"
      ]
    },
    {
      "cell_type": "markdown",
      "metadata": {
        "id": "EllEx8_atGPX"
      },
      "source": [
        "#### Обучение\n",
        "\n",
        "В качетсве функции потерь возьмите [бинарную кросс-энтропию](https://pytorch.org/docs/stable/generated/torch.nn.BCELoss.html), а шаг градиентного спуска установите равным 0.5. Можете взять и другие loss и `lr`, если хотите поэкспериментировать."
      ]
    },
    {
      "cell_type": "code",
      "execution_count": 51,
      "metadata": {
        "id": "OIka-Rs1uMHY"
      },
      "outputs": [],
      "source": [
        "optim_func = nn.BCELoss()\n",
        "optimizer = optim.SGD(model.parameters(), lr=0.5)"
      ]
    },
    {
      "cell_type": "code",
      "execution_count": 52,
      "metadata": {
        "colab": {
          "base_uri": "https://localhost:8080/",
          "height": 385
        },
        "id": "7Xz9XaHl_7eK",
        "outputId": "16943c02-774d-4210-da66-a5e2150ed4d6"
      },
      "outputs": [
        {
          "data": {
            "image/png": "[encoded data removed]",
            "text/plain": [
              "<Figure size 2000x700 with 2 Axes>"
            ]
          },
          "metadata": {},
          "output_type": "display_data"
        }
      ],
      "source": [
        "batch_size = 2000 # этот\n",
        "num_iter = 1  # и этот параметры можете также поварьировать\n",
        "history = {\n",
        "    'loss_train': [],\n",
        "    'loss_val': [],\n",
        "    'metric_train': [],\n",
        "    'metric_val': [],\n",
        "}\n",
        "\n",
        "# Так как размер выборки слишком велик, то будем обучать лишь на части данных\n",
        "indexes_train = np.random.choice(np.arange(len(X_train)), batch_size, replace=False)\n",
        "local_X_train = X_train[indexes_train]\n",
        "local_y_train = y_train[indexes_train]\n",
        "\n",
        "indexes_val = np.random.choice(np.arange(len(X_val)), batch_size//10, replace=False)\n",
        "local_X_val = X_val[indexes_val]\n",
        "local_y_val = y_val[indexes_val]\n",
        "\n",
        "\n",
        "for i in range(num_iter):\n",
        "    \n",
        "\n",
        "    # Forward pass: предсказание модели по данным X_train\n",
        "    # print(local_X_train)\n",
        "    y_pred_train = model(local_X_train)\n",
        "    with torch.no_grad():\n",
        "        y_pred_val = model(torch.FloatTensor(local_X_val))\n",
        "\n",
        "\n",
        "    # Вычисление оптимизируемой функции (MSE) по предсказаниям\n",
        "    # print(y_pred_train, local_y_train)\n",
        "    loss_train = optim_func(y_pred_train, local_y_train)\n",
        "    with torch.no_grad():\n",
        "        loss_val = optim_func(y_pred_val, local_y_val)\n",
        "\n",
        "    # Backward pass: вычисление градиентов оптимизируемой функции\n",
        "    # по всем параметрам модели\n",
        "    loss_train.backward()\n",
        "\n",
        "    # Оптимизация: обновление параметров по формулам соответствующего\n",
        "    # метода оптимизации, используются вычисленные ранее градиенты\n",
        "    optimizer.step()\n",
        "\n",
        "    # Зануление градиентов\n",
        "    optimizer.zero_grad()\n",
        "\n",
        "    # Считаем метрику на эпохе (здесь посчитана acuracy, можете реализовать любую другую за доп. баллы)\n",
        "    metric_train = np.sum((y_pred_train.detach().numpy() >= class_lim_proba).reshape(-1) == local_y_train.detach().numpy().reshape(-1)) / len(indexes_train)\n",
        "    metric_val = np.sum((y_pred_val.detach().numpy() >= class_lim_proba).reshape(-1) == local_y_val.detach().numpy().reshape(-1)) / len(indexes_val)\n",
        "    # print(metric_train, metric_val)\n",
        "    # print((y_pred_train.detach().numpy() >= class_lim_proba).reshape(-1,1))\n",
        "    # print(local_y_train.detach().numpy())\n",
        "\n",
        "    # Сохраняем результаты эпохи\n",
        "    history['loss_train'].append(loss_train.item())\n",
        "    history['loss_val'].append(loss_val)\n",
        "    history['metric_train'].append(metric_train)\n",
        "    history['metric_val'].append(metric_val)\n",
        "\n",
        "    # График Метрики + Лосса для трейна и валидации каждую итерацию\n",
        "    plot_learning_curves(history)"
      ]
    },
    {
      "cell_type": "markdown",
      "metadata": {
        "id": "DkW1-Qjd_-dN"
      },
      "source": [
        "Тестирование"
      ]
    },
    {
      "cell_type": "code",
      "execution_count": 53,
      "metadata": {
        "colab": {
          "base_uri": "https://localhost:8080/"
        },
        "id": "TkZtkmbD4PHI",
        "outputId": "0bc0c23a-c963-4692-fc44-43a8e72e8e92"
      },
      "outputs": [
        {
          "name": "stdout",
          "output_type": "stream",
          "text": [
            " Test Loss: 0.6992296576499939 \n",
            " Test metric: 0.458\n"
          ]
        }
      ],
      "source": [
        "with torch.no_grad():\n",
        "      batch_size = 2000\n",
        "      indexes_test = np.random.choice(np.arange(len(X_test)), batch_size, replace=False)\n",
        "      local_X_test = X_test[indexes_test]\n",
        "      local_y_test = y_test[indexes_test]\n",
        "    \n",
        "      y_pred_test = model(local_X_test)\n",
        "      loss_test = optim_func(y_pred_test, local_y_test)\n",
        "      metric_test = (np.sum((y_pred_test.detach().numpy() >= class_lim_proba ).reshape(-1) == local_y_test.numpy().reshape(-1))) / batch_size\n",
        "print(f\" Test Loss: {loss_test} \\n Test metric: {metric_test}\")"
      ]
    },
    {
      "cell_type": "markdown",
      "metadata": {
        "id": "AKaxR5ClAEzS"
      },
      "source": [
        "**Выводы:**"
      ]
    },
    {
      "cell_type": "markdown",
      "metadata": {
        "id": "pBtvk1ax2BBD"
      },
      "source": [
        "---\n",
        "## <b><font color=\"orange\">Сложная часть</font></b>\n",
        "### Задача 3"
      ]
    },
    {
      "cell_type": "markdown",
      "metadata": {
        "id": "LXJEXwzvEPQv"
      },
      "source": [
        "В этой задаче мы будем вручную реализовывать усложнение для линейной регрессии, которое вы рассматривали на семинаре. \n",
        "\n",
        "Запрещено использовать torch.nn (саму библиотеку torch использовать можно и нужно). Чтобы иметь перед глазами оставим здесь формулы:\n",
        "\n",
        "$$\\widehat{y}(x) = w_1u(x) + b_1,$$\n",
        "\n",
        "$$u(x) = \\sigma(w_0x + b_0),$$\n",
        "\n",
        "$$\\sigma(x) = \\text{ReLU}(x) = \\begin{equation*}\\begin{cases}x, \\; x \\ge 0, \\\\ 0, \\; \\text{иначе,} \\end{cases} \\end{equation*}$$\n",
        "\n",
        "$w_0, b_0 \\in \\mathbb{R}$ &mdash; обучаемые параметры первого слоя, $w_1, b_1 \\in \\mathbb{R}$ &mdash; обучаемые параметры второго слоя, $\\sigma(x)$ &mdash; функция активации, в данном случае мы выбрали `ReLU`."
      ]
    },
    {
      "cell_type": "markdown",
      "metadata": {},
      "source": [
        "Реализуйте функцию активации:"
      ]
    },
    {
      "cell_type": "code",
      "execution_count": 54,
      "metadata": {},
      "outputs": [],
      "source": [
        "def act_func(x):\n",
        "    return x * (x > 0)\n",
        "\n",
        "# act_func(X_train)"
      ]
    },
    {
      "cell_type": "markdown",
      "metadata": {},
      "source": [
        "Задайте оптимизируемую функцию / функцию ошибки / лосс — [MSE](https://miptstats.github.io/courses/ad_fivt/linreg_sklearn.html#3.-Тестирование-и-оценка-качества):"
      ]
    },
    {
      "cell_type": "markdown",
      "metadata": {},
      "source": [
        "$$\n",
        "    MSE(\\widehat{y}, y) = \\frac{1}{n}\\sum_{i=1}^n\\left(\\widehat y_i - y_i\\right)^2\n",
        "$$"
      ]
    },
    {
      "cell_type": "code",
      "execution_count": 55,
      "metadata": {},
      "outputs": [
        {
          "name": "stdout",
          "output_type": "stream",
          "text": [
            "4200\n",
            "0.24999724 0.24999727308750153\n"
          ]
        }
      ],
      "source": [
        "def optim_func(y_pred, y_true):\n",
        "    return torch.mean((y_pred - y_true)**2)\n",
        "\n",
        "\n",
        "lasso = Lasso()\n",
        "lasso.fit(X_train, y_train)\n",
        "y_pred = lasso.predict(X_test)\n",
        "y_pred = torch.FloatTensor(y_pred).reshape(-1, 1)\n",
        "print(len(y_pred))\n",
        "print(\n",
        "mean_squared_error(y_pred, y_test),\n",
        "optim_func(y_pred, y_test).item()\n",
        ")"
      ]
    },
    {
      "cell_type": "markdown",
      "metadata": {
        "id": "2OvXcixqGrlF"
      },
      "source": [
        "Обучите вашу модель на датасете с семинарского задания. Сравните полученный результат с результатом семинара."
      ]
    },
    {
      "cell_type": "code",
      "execution_count": 56,
      "metadata": {},
      "outputs": [],
      "source": [
        "def load_boston(file_path='boston.csv'):\n",
        "    # выделяем признаки и таргет\n",
        "    raw_df = pd.read_csv(file_path)\n",
        "    data = np.hstack([raw_df.values[::2, :], raw_df.values[1::2, :2]])\n",
        "    target = raw_df.values[1::2, 2]\n",
        "    return data, target"
      ]
    },
    {
      "cell_type": "code",
      "execution_count": 57,
      "metadata": {},
      "outputs": [
        {
          "data": {
            "text/plain": [
              "((506, 13), (506,))"
            ]
          },
          "execution_count": 57,
          "metadata": {},
          "output_type": "execute_result"
        }
      ],
      "source": [
        "data, target = load_boston()\n",
        "data.shape, target.shape"
      ]
    },
    {
      "cell_type": "code",
      "execution_count": 58,
      "metadata": {},
      "outputs": [
        {
          "data": {
            "text/plain": [
              "(torch.Size([506, 1]), torch.Size([506, 1]))"
            ]
          },
          "execution_count": 58,
          "metadata": {},
          "output_type": "execute_result"
        }
      ],
      "source": [
        "x = torch.FloatTensor(data[:, -1]/10).reshape(-1, 1)\n",
        "y = torch.FloatTensor(target).reshape(-1, 1)\n",
        "\n",
        "x.shape, y.shape"
      ]
    },
    {
      "cell_type": "code",
      "execution_count": 59,
      "metadata": {},
      "outputs": [],
      "source": [
        "X_train, X_val = train_test_split(x, test_size=0.2, train_size=0.8, random_state=207)\n",
        "y_train, y_val = train_test_split(y, test_size=0.2, train_size=0.8, random_state=207)"
      ]
    },
    {
      "cell_type": "code",
      "execution_count": 60,
      "metadata": {},
      "outputs": [],
      "source": [
        "def show_progress(x, y, y_pred, losses):\n",
        "    '''\n",
        "    Визуализация процесса обучения.\n",
        "\n",
        "    x, y -- объекты и таргеты обучающей выборки;\n",
        "    y_pred -- предсказания модели;\n",
        "    losses -- значение ошибки модели со всех итераций обучения.\n",
        "    '''\n",
        "\n",
        "    # Открепим переменную от вычислительного графа перед отрисовкой графика\n",
        "    y_pred = y_pred.detach()\n",
        "    \n",
        "    # Стираем предыдущий вывод в тот момент, когда появится следующий\n",
        "    clear_output(wait=True)\n",
        "\n",
        "    # Строим новый график\n",
        "    fig, ax = plt.subplots(2, 1, figsize = (10, 10))\n",
        "    # График предсказаний    \n",
        "    ax[0].scatter(x, y, alpha=0.75)\n",
        "    ax[0].scatter(x, y_pred, color='orange', linewidth=5)\n",
        "    ax[0].set_xlabel('% населения с низким уровнем дохода')\n",
        "    ax[0].set_title('Медианная стоимость домов в тыс. $')\n",
        "    \n",
        "    #Теперь добавляем график с лосс-функцией\n",
        "    ax[1].plot(losses, color='red')\n",
        "    ax[1].set_xlabel('iteration')\n",
        "    ax[1].set_ylabel('Loss')\n",
        "    ax[1].set_title('Изменение Loss во время обучения')\n",
        "    # Добавляем заголовок и подписи по осям\n",
        "    \n",
        "    \n",
        "    # Чтобы подписи не перекрывались\n",
        "    fig.tight_layout()\n",
        "    \n",
        "    plt.show()\n",
        "\n",
        "    print(f\"MSE = {losses[-1]:.3f}\")"
      ]
    },
    {
      "cell_type": "code",
      "execution_count": 61,
      "metadata": {
        "id": "ApGCfCxbI45M"
      },
      "outputs": [
        {
          "data": {
            "image/png": "[encoded data removed]",
            "text/plain": [
              "<Figure size 1000x1000 with 2 Axes>"
            ]
          },
          "metadata": {},
          "output_type": "display_data"
        },
        {
          "name": "stdout",
          "output_type": "stream",
          "text": [
            "MSE = 33.326\n"
          ]
        }
      ],
      "source": [
        "# Инициализация параметров\n",
        "w0 = torch.tensor(1.0, requires_grad=True)\n",
        "b0 = torch.tensor(1.0, requires_grad=True)\n",
        "w1 = torch.tensor(1.0, requires_grad=True)\n",
        "b1 = torch.tensor(1.0, requires_grad=True)\n",
        "\n",
        "\n",
        "# Количество итераций\n",
        "num_iter = 1000\n",
        "\n",
        "# Скорость обучения для параметров\n",
        "lr_w = 0.01\n",
        "lr_b = 0.05\n",
        "\n",
        "losses = []\n",
        "\n",
        "for i in range(num_iter):\n",
        "\n",
        "    # Forward pass: предсказание модели\n",
        "    u_x = act_func(w0 * X_train + b0)\n",
        "    y_pred = w1 * u_x + b1\n",
        "\n",
        "    # Вычисление оптимизируемой функции (MSE)\n",
        "    loss = optim_func(y_pred, y_train)\n",
        "    \n",
        "   # Bakcward pass: вычисление градиентов\n",
        "    loss.backward()\n",
        "\n",
        "    # Оптимизация: обновление параметров\n",
        "    with torch.no_grad():\n",
        "        w0 -= lr_w * w0.grad\n",
        "        b0 -= lr_b * b0.grad\n",
        "        w1 -= lr_w * w1.grad\n",
        "        b1 -= lr_b * b1.grad\n",
        "\n",
        "    # Зануление градиентов\n",
        "    w0.grad.zero_()\n",
        "    b0.grad.zero_()\n",
        "    w1.grad.zero_()\n",
        "    b1.grad.zero_()\n",
        "    \n",
        "    losses.append(loss.item())\n",
        "    # График + вывод MSE через каждые 10 итераций\n",
        "    if (i + 1) % 10 == 0:\n",
        "        show_progress(X_train, y_train, y_pred, losses)"
      ]
    },
    {
      "cell_type": "code",
      "execution_count": 64,
      "metadata": {},
      "outputs": [
        {
          "name": "stdout",
          "output_type": "stream",
          "text": [
            "Значение MSE на валидационной выборке: 31.7\n"
          ]
        }
      ],
      "source": [
        "print(f'Значение MSE на валидационной выборке: {optim_func(w1 * act_func(w0 * X_val + b0) + b1, y_val).item():.3}')"
      ]
    },
    {
      "cell_type": "markdown",
      "metadata": {
        "id": "_FlR8uG2ISKG"
      },
      "source": [
        "**Вывод:**"
      ]
    },
    {
      "cell_type": "markdown",
      "metadata": {
        "id": "A2YpEPPyz1nx"
      },
      "source": [
        "---\n",
        "### Задача 4\n",
        "\n",
        "Рассмотрим двуслойную нейронную сеть, которая принимает на вход $x\\in\\mathbb{R}$ и возвращает $y\\in\\mathbb{R}$. Выход первого слоя возвращает $u \\in\\mathbb{R}^2$. После первого слоя используется функция активации $\\sigma(x) = \\frac{1}{1 + \\exp(-x)}$, после второго слоя функция активации не используется (или используется тождественная). Тем самым нашу нейронку можно представить в виде\n",
        "\n",
        "$$\\widehat{y}(x) = \\sum_{h=1}^2 w_{2h}u_h(x) + b_2,$$\n",
        "\n",
        "$$u_h(x) = \\sigma(w_{1h}x + b_{1h}),$$\n",
        "\n",
        "$$\\text{где} \\; h \\in \\{1, 2\\}.$$\n",
        "\n",
        "\n",
        "\n"
      ]
    },
    {
      "cell_type": "markdown",
      "metadata": {
        "id": "s-W7vzhJ0e6o"
      },
      "source": [
        "**1.** Нарисуйте схематически данную нейронную сеть. Сколько у нее обучаемых параметров?\n",
        "\n",
        "..."
      ]
    },
    {
      "cell_type": "markdown",
      "metadata": {
        "id": "Q8m6kFek0bb0"
      },
      "source": [
        "**2.** Пусть нам дана обучающая выборка $(X_1, Y_1), ..., (X_n, Y_n)$, где $X_i \\in \\mathbb{R}$ и $Y_i \\in \\mathbb{R}$. Нейронная сеть обучается по этой выборке, минимизируя заданную функцию $L$ &mdash; функцию ошибки. Положим, что $L$ &mdash; это MSE:\n",
        "$$\\text{MSE} = L(X, Y) = \\frac{1}{n}\\sum_{i=1}^n \\big(Y_i - \\widehat{y}(X_i)\\big)^2.$$\n",
        "\n",
        "Наша задача &mdash; найти оптимальные параметры нашей модели для минимизации $L(X, Y)$ на заданном наборе данных. Мы будем решать эту задачу с помощью градиентного спуска. Для этого нам понадобится выписать производные по всем параметрам сети. Конечно, в данном случае довольно просто выписать все производные напрямую. Однако мы воспользуемся следующей хитростью: мы будем считать производные поэтапно, причем начнем с конца вычислительной цепочки и, используя формулу производной сложной функции, последовательно посчитаем все необходимые производные. Этот процесс называется методом **обратного распространения ошибки (backpropagation)**.\n"
      ]
    },
    {
      "cell_type": "markdown",
      "metadata": {
        "id": "8Qh4_3N60XuA"
      },
      "source": [
        "**2.1.** Начнем с производной MSE по выходам сети:\n",
        "$$\\frac{\\partial\\:\\text{MSE}}{\\partial \\widehat{y}(X_i)} = \\; ...$$"
      ]
    },
    {
      "cell_type": "markdown",
      "metadata": {
        "id": "9pVY18ws0R0r"
      },
      "source": [
        "**2.2** Возьмем производные выходов сети по параметрам последнего слоя\n",
        "\n",
        "$$\\frac{\\partial \\widehat{y}(X_i)}{\\partial w_{2h}} = \\; ...$$\n",
        "\n",
        "$$\\frac{\\partial \\widehat{y}(X_i)}{\\partial b_2} = \\; ...$$\n",
        "\n",
        "Также выпишем производные выходов сети по входам последнего слоя:\n",
        "\n",
        "$$\\frac{\\partial \\widehat{y}(X_i)}{\\partial u_h(X_i)} = \\; ...$$\n",
        "\n",
        "Теперь выпишем производные MSE по параметрам и входам последнего слоя. Для этого вспомните правило производной сложной функции из математического анализа. Обратите внимание на то, что нам не нужно прописывать все производные до конца, достаточно заполнить пропуски в записи ниже:\n",
        "\n",
        "$$\\frac{\\partial\\:\\text{MSE}}{\\partial w_{2h}} = \\sum_{i=1}^n \\frac{\\partial\\:\\text{MSE}}{\\partial ...} \\frac{\\partial ...}{\\partial w_{2h}}$$\n",
        "\n",
        "$$\\frac{\\partial\\:\\text{MSE}}{\\partial b_2} = \\sum_{i=1}^n \\frac{\\partial\\:\\text{MSE}}{\\partial ...} \\frac{\\partial ...}{\\partial b_2}$$\n",
        "\n",
        "$$\\frac{\\partial\\:\\text{MSE}}{\\partial u_h} = \\sum_{i=1}^n \\frac{\\partial\\:\\text{MSE}}{\\partial ...} \\frac{\\partial ...}{\\partial u_h}$$"
      ]
    },
    {
      "cell_type": "markdown",
      "metadata": {
        "id": "CUu7vmpZ0No9"
      },
      "source": [
        "**2.3.** Теперь будем разбираться с производными по параметрам первого слоя.\n",
        "\n",
        "Для начала нам пригодится производная функции активации, запишите ее так, чтобы ответе осталась функция от $\\sigma(x)$:\n",
        "\n",
        "$$\\frac{\\partial\\:\\sigma(x)}{\\partial x} = \\; ...$$\n",
        "\n",
        "Теперь возьмем производные выходов первого слоя по его параметрам:\n",
        "\n",
        "$$\\frac{\\partial u_h(X_i)}{\\partial w_{1h}} = \\; ...$$\n",
        "\n",
        "$$\\frac{\\partial u_h(X_i)}{\\partial b_{1h}} = \\; ...$$\n",
        "\n",
        "Наконец, выпишем производные MSE по параметрам первого слоя. Так же как и раньше достаточно заполнить пропуски в записи ниже:\n",
        "\n",
        "$$\\frac{\\partial\\:\\text{MSE}}{\\partial w_{1h}} = \\; \\sum_{i=1}^n \\frac{\\partial\\:\\text{MSE}}{\\partial ...} \\frac{\\partial ...}{\\partial w_{1h}}$$\n",
        "\n",
        "$$\\frac{\\partial\\:\\text{MSE}}{\\partial b_{1h}} = \\; \\sum_{i=1}^n \\frac{\\partial\\:\\text{MSE}}{\\partial ...} \\frac{\\partial ...}{\\partial b_{1h}}$$"
      ]
    },
    {
      "cell_type": "markdown",
      "metadata": {
        "id": "aYH-3D7bz_KN"
      },
      "source": [
        "**3.** Пусть обучающая выборка очень большая. Что нужно делать в таком случае? Запишите, как нужно поменять правило обновления параметров.\n",
        "\n",
        "..."
      ]
    },
    {
      "cell_type": "markdown",
      "metadata": {
        "id": "lUkTCQNFz3-q"
      },
      "source": [
        "**Вывод:**\n",
        "\n",
        "..."
      ]
    }
  ],
  "metadata": {
    "colab": {
      "collapsed_sections": [
        "pBtvk1ax2BBD",
        "A2YpEPPyz1nx"
      ],
      "provenance": []
    },
    "kernelspec": {
      "display_name": "Python 3",
      "name": "python3"
    },
    "language_info": {
      "codemirror_mode": {
        "name": "ipython",
        "version": 3
      },
      "file_extension": ".py",
      "mimetype": "text/x-python",
      "name": "python",
      "nbconvert_exporter": "python",
      "pygments_lexer": "ipython3",
      "version": "3.10.12"
    }
  },
  "nbformat": 4,
  "nbformat_minor": 0
}
