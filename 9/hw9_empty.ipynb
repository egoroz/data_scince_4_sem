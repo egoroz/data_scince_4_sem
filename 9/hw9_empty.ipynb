{
 "cells": [
  {
   "cell_type": "markdown",
   "id": "9157b443",
   "metadata": {},
   "source": [
    "# <a href=\"https://miptstats.github.io/courses/ad_mipt.html\">Phystech@DataScience</a>\n",
    "## Домашнее задание 9\n",
    "\n",
    "**Правила, <font color=\"red\">прочитайте внимательно</font>:**\n",
    "\n",
    "* Выполненную работу нужно отправить телеграм-боту `@miptstats_pds_bot`. Для начала работы с ботом каждый раз отправляйте `/start`. **Работы, присланные иным способом, не принимаются.**\n",
    "* Дедлайн см. в боте. После дедлайна работы не принимаются кроме случаев наличия уважительной причины.\n",
    "* Прислать нужно ноутбук в формате `ipynb`.\n",
    "* Выполнять задание необходимо полностью самостоятельно. **При обнаружении списывания все участники списывания будут сдавать устный зачет.**\n",
    "* Решения, размещенные на каких-либо интернет-ресурсах, не принимаются. Кроме того, публикация решения в открытом доступе может быть приравнена к предоставлении возможности списать.\n",
    "* Для выполнения задания используйте этот ноутбук в качестве основы, ничего не удаляя из него. Можно добавлять необходимое количество ячеек.\n",
    "* Комментарии к решению пишите в markdown-ячейках.\n",
    "* Выполнение задания (ход решения, выводы и пр.) должно быть осуществлено на русском языке.\n",
    "* Если код будет не понятен проверяющему, оценка может быть снижена.\n",
    "* Никакой код из данного задания при проверке запускаться не будет. *Если код студента не выполнен, недописан и т.д., то он не оценивается.*\n",
    "* **Код из рассказанных на занятиях ноутбуков можно использовать без ограничений.**\n",
    "\n",
    "**Правила оформления теоретических задач:**\n",
    "\n",
    "* Решения необходимо прислать одним из следующих способов:\n",
    "  * фотографией в правильной ориентации, где все четко видно, а почерк разборчив,\n",
    "    * отправив ее как файл боту вместе с ноутбуком *или*\n",
    "    * вставив ее в ноутбук посредством `Edit -> Insert Image` (<font color=\"red\">фото, вставленные ссылкой, не принимаются</font>);\n",
    "  * в виде $\\LaTeX$ в markdown-ячейках.\n",
    "* Решения не проверяются, если какое-то требование не выполнено. Особенно внимательно все проверьте в случае выбора второго пункта (вставки фото в ноутбук). <font color=\"red\"><b>Неправильно вставленные фотографии могут не передаться при отправке.</b></font> Для проверки попробуйте переместить `ipynb` в другую папку и открыть его там.\n",
    "* В решениях поясняйте, чем вы пользуетесь, хотя бы кратко. Например, если пользуетесь независимостью, то достаточно подписи вида \"*X и Y незав.*\"\n",
    "* Решение, в котором есть только ответ, и отсутствуют вычисления, оценивается в 0 баллов.\n",
    "\n",
    "**Баллы за задание:**\n",
    "\n",
    "<b><font color=\"blue\">Легкая часть</font></b> (достаточно на \"хор\"):\n",
    "* Задача 1 &mdash; 20 баллов\n",
    "* Задача 2 &mdash;  20 баллов\n",
    "* Задача 3 &mdash;  25 баллов\n",
    "* Задача 4 &mdash; 25 баллов\n",
    "\n",
    "<b><font color=\"orange\">Сложная часть</font></b> (необходимо на \"отл\"):\n",
    "* Задача 5 &mdash; 35 баллов\n",
    "\n",
    "\n",
    "-----"
   ]
  },
  {
   "cell_type": "code",
   "execution_count": 1,
   "id": "66c01268",
   "metadata": {},
   "outputs": [],
   "source": [
    "# Bot check\n",
    "\n",
    "# HW_ID: phds_hw9\n",
    "# Бот проверит этот ID и предупредит, если случайно сдать что-то не то.\n",
    "\n",
    "# Status: final\n",
    "# Перед отправкой в финальном решении удали \"not\" в строчке выше.\n",
    "# Так бот проверит, что ты отправляешь финальную версию, а не промежуточную.\n",
    "# Никакие значения в этой ячейке не влияют на факт сдачи работы."
   ]
  },
  {
   "cell_type": "code",
   "execution_count": 2,
   "id": "6744ddcf",
   "metadata": {},
   "outputs": [],
   "source": [
    "import numpy as np\n",
    "import scipy.stats as sps\n",
    "import matplotlib.pyplot as plt\n",
    "import seaborn as sns\n",
    "\n",
    "sns.set(palette='Set2')"
   ]
  },
  {
   "cell_type": "markdown",
   "id": "004c83b3",
   "metadata": {},
   "source": [
    "### <b><i><font color=\"blue\">Легкая часть</font></i></b> \n"
   ]
  },
  {
   "cell_type": "markdown",
   "id": "0d1a2899",
   "metadata": {},
   "source": [
    "### Задача 1\n",
    "Пусть $X = ( X_1, ... X_n)$ — выборка из неизвестного распределения $\\mathsf{P} \\in \\{ \\mathsf{P}_{\\theta} | \\theta \\in \\Theta \\}$\n",
    "и для проверки гипотез $\\mathsf{H}_0 : \\theta \\in [−1, 1]$   vs.  $\\mathsf{H}_1 : \\theta \\notin [−1, 1]$ используется критерий\n",
    "$S = \\{x \\in \\mathbb{R}^n | T(x) > 1\\}$. Предположим, $T(x)$ имеет распределение $\\mathcal{N}(\\theta, 1)$. Какие\n",
    "ответы возможны в результате проверки данных гипотез и в каких случаях? Найдите\n",
    "вероятность ошибки первого рода.\n",
    "\n",
    "*Указание:*\n",
    "- Не забудьте, что в определении вероятности ошибки I рода стоит супремум по всем параметрам из основной гипотезы\n",
    "- Можно показать, где достигается супремум графически. Например, с помощью `sps.norm`, где параметр `loc` отвечает за сдвиг.\n",
    "\n"
   ]
  },
  {
   "cell_type": "code",
   "execution_count": 3,
   "id": "ac54a32f",
   "metadata": {},
   "outputs": [
    {
     "data": {
      "text/plain": [
       "0.5"
      ]
     },
     "execution_count": 3,
     "metadata": {},
     "output_type": "execute_result"
    }
   ],
   "source": [
    "1 - sps.norm.cdf(0)"
   ]
  },
  {
   "cell_type": "markdown",
   "id": "7e8383c7",
   "metadata": {},
   "source": [
    "РЕШЕНИЕ ПРИЛОЖЕНО"
   ]
  },
  {
   "cell_type": "markdown",
   "id": "d5953131",
   "metadata": {},
   "source": [
    "### Задача 2\n",
    "\n",
    "Проведен эксперимент, получены данные из экспоненциального распределения. "
   ]
  },
  {
   "cell_type": "code",
   "execution_count": 4,
   "id": "874ad1c7",
   "metadata": {},
   "outputs": [],
   "source": [
    "sample = [0.11731702, 0.75253036, 0.32918642, 0.22823564, 0.04240622,\n",
    "        0.04239907, 0.01495969, 0.50280772, 0.22977054, 0.30781252,\n",
    "        0.00519983, 0.87588937, 0.44660739, 0.05967191, 0.05016975,\n",
    "        0.05065286, 0.09068843, 0.18598196, 0.14138427, 0.08605575,\n",
    "        0.23659272, 0.03755863, 0.08637888, 0.1140693 , 0.15223367,\n",
    "        0.384484  , 0.05568397, 0.18050729, 0.22437618, 0.01189096]"
   ]
  },
  {
   "cell_type": "markdown",
   "id": "3a3e2c61",
   "metadata": {},
   "source": [
    "Необходимо проверить, является ли это распределение с параметром $\\lambda=2$. Используя Критерий Вальда, сделайте вывод по данному предположению.\n",
    "\n",
    "$X_1, ... X_n$ &mdash; выборка из распределения $Exp(\\lambda)$.  \n",
    "Проверьте гипотезу $\\mathsf{H}_0\\colon \\lambda = 2$ vs. $\\mathsf{H}_1\\colon \\lambda \\neq 2$  \n",
    "  \n",
    "\n",
    " \n",
    " "
   ]
  },
  {
   "cell_type": "markdown",
   "id": "61838f5e",
   "metadata": {},
   "source": [
    "**1.** Из лекции вы узнали про критерий Вальда.\n",
    "Для случая двусторонней альтернативы $\\mathsf{H}_1\\colon \\theta \\neq \\theta_0$ критерий имел следующий вид:\n",
    "$$\\large{S = \\left\\{ \\left|\\sqrt{n} \\frac{\\hat{\\theta} - \\theta_0}{\\hat{\\sigma}} \\right| > z_{1 - \\frac{\\alpha}{2}} \\right\\}}$$\n",
    "\n",
    "где $\\hat{\\theta}$ &mdash; асимптотически нормальная оценка $\\theta$ с асимптотической дисперсией $\\sigma^2(\\theta)$, \n",
    "$\\hat{\\sigma}$ &mdash; состоятельная оценка $\\sigma(\\theta)$.  \n",
    "\n",
    "Эквивалентный асимптотичсекий доверительный интервал для параметра $\\theta$ уровня доверия $1-\\alpha$\n",
    "$$C = \\left( \\hat{\\theta} - \\frac{z_{1-\\alpha/2} \\hat{\\sigma}}{\\sqrt{n}}, \\hat{\\theta} + \\frac{z_{1-\\alpha/2} \\hat{\\sigma}}{\\sqrt{n}}\\right)$$\n",
    "\n",
    "На первой лекции вы получали, что $\\frac{1}{\\overline{X}}$ &mdash; АНО для параметра $\\theta$ c асимптотической дисперсией $\\theta^2$\n",
    "\n",
    "\n",
    " **Выпишите состоятельную оценку дисперсии и статистику критерия Вальда**\n",
    " \n",
    " "
   ]
  },
  {
   "cell_type": "markdown",
   "id": "fc62e64c",
   "metadata": {},
   "source": [
    "**Ответ: РЕШЕНИЕ ПРИЛОЖЕНО** "
   ]
  },
  {
   "cell_type": "markdown",
   "id": "5d9971ca",
   "metadata": {},
   "source": [
    "На лекции вы узнали про p-value &mdash; это вероятность получить при справедливости $H_0$ такое значение статистики $t = T(x)$ или еще более экстремальное, то есть в случае двустороннего критерия\n",
    "$$p(x) = \\mathsf{P}_0(T(X) \\geq|t|) + \\mathsf{P}_0(T(X) \\leq -|t|)$$\n",
    "Для расчета можно использовать функции из библиотеки `scipy.stats`."
   ]
  },
  {
   "cell_type": "markdown",
   "id": "dd8eb639",
   "metadata": {},
   "source": [
    "**2**. Оформите функцию подсчета статистики критерия, p-value и доверительного интервала "
   ]
  },
  {
   "cell_type": "code",
   "execution_count": 5,
   "id": "d82257c3",
   "metadata": {},
   "outputs": [],
   "source": [
    "def wald_test(sample, theta, estimation_theta, estimation_sigma, alternative='two_sided'):\n",
    "    \"\"\"\n",
    "    param sample: реализация выборки\n",
    "    param theta: истинное значение параметра\n",
    "    param estimation_theta: оценка параметра\n",
    "    param estimation_sigma: оценка асимптотической дисперсии\n",
    "        оценки estimation_sigma\n",
    "    param alternative: вид альтернативной гипотезы,\n",
    "        может принимать одно из значений 'two_sided', 'less', 'greater'\n",
    "\n",
    "    return statistic\n",
    "    return p_value\n",
    "    return conf_int - доверительный интервал\n",
    "    \"\"\"\n",
    "\n",
    "    alpha = 0.05\n",
    "    n = len(sample)\n",
    "    statistic = abs(estimation_theta - theta) / estimation_sigma\n",
    "    \n",
    "    if alternative == \"two_sided\":\n",
    "        p_value = 2 * (1 - sps.norm.cdf(np.abs(statistic)))\n",
    "        conf_int = (estimation_theta - sps.norm.ppf(1 - alpha/2) * estimation_sigma / np.sqrt(n), \n",
    "                    estimation_theta + sps.norm.ppf(1 - alpha/2) * estimation_sigma / np.sqrt(n))\n",
    "    elif alternative == 'less':\n",
    "        p_value = sps.norm.cdf(statistic)\n",
    "        conf_int = (-np.inf,estimation_theta - sps.norm.ppf(1 - alpha/2) * estimation_sigma / np.sqrt(n))\n",
    "\n",
    "    elif alternative == 'greater':\n",
    "        p_value = 1 - sps.norm.cdf(statistic)\n",
    "        conf_int = (estimation_theta + sps.norm.ppf(1 - alpha/2) * estimation_sigma / np.sqrt(n), np.inf)\n",
    "\n",
    "    \n",
    "    return (statistic, p_value, conf_int)"
   ]
  },
  {
   "cell_type": "markdown",
   "id": "beef33ef",
   "metadata": {},
   "source": [
    "**3**. Проверьте гипотезу с двусторонней альтернативой."
   ]
  },
  {
   "cell_type": "code",
   "execution_count": 6,
   "id": "45ad1560",
   "metadata": {},
   "outputs": [],
   "source": [
    "theta = 2\n",
    "estimation_theta = 1 / (np.mean(sample))\n",
    "estimation_sigma = abs(estimation_theta) / np.sqrt(len(sample))"
   ]
  },
  {
   "cell_type": "code",
   "execution_count": 7,
   "id": "babdcce6",
   "metadata": {},
   "outputs": [
    {
     "name": "stdout",
     "output_type": "stream",
     "text": [
      "Two-sided alternative:\n",
      "Statistic: 3.2704505437191247\n",
      "P-value: 0.001073763160511998\n",
      "Confidence interval: (4.639699718930521, 5.288318311515111)\n"
     ]
    }
   ],
   "source": [
    "print(\"Two-sided alternative:\")\n",
    "statistic, p_value, conf_int = wald_test(sample, theta, estimation_theta, estimation_sigma, 'two_sided')\n",
    "print(f\"Statistic: {statistic}\")\n",
    "print(f\"P-value: {p_value}\")\n",
    "print(f\"Confidence interval: {conf_int}\")"
   ]
  },
  {
   "cell_type": "markdown",
   "id": "ab32a1f0",
   "metadata": {},
   "source": [
    "**Вывод:** Поскольку p-value меньше 0.05, мы отвергаем нулевую гипотезу о том, что $\\lambda$=2. Значит данные, скорее всего, не являются выборкой из экспоненциального распределения с параметром $\\lambda$=2"
   ]
  },
  {
   "cell_type": "markdown",
   "id": "b9269b95",
   "metadata": {},
   "source": [
    "**4**. Проверьте гипотезу с правосторонней альтернативой."
   ]
  },
  {
   "cell_type": "code",
   "execution_count": 8,
   "id": "852db5bd",
   "metadata": {},
   "outputs": [
    {
     "name": "stdout",
     "output_type": "stream",
     "text": [
      "greater alternative:\n",
      "Statistic: 3.2704505437191247\n",
      "P-value: 0.000536881580255999\n",
      "Confidence interval: (5.288318311515111, inf)\n"
     ]
    }
   ],
   "source": [
    "print(\"greater alternative:\")\n",
    "statistic, p_value, conf_int = wald_test(sample, theta, estimation_theta, estimation_sigma, 'greater')\n",
    "print(f\"Statistic: {statistic}\")\n",
    "print(f\"P-value: {p_value}\")\n",
    "print(f\"Confidence interval: {conf_int}\")"
   ]
  },
  {
   "cell_type": "markdown",
   "id": "677c5087",
   "metadata": {},
   "source": [
    "**Вывод:** Поскольку p-value меньше 0.05, мы отвергаем нулевую гипотезу о том, что $\\lambda$=2. Значит данные, скорее всего, не являются выборкой из экспоненциального распределения с параметром $\\lambda$=2"
   ]
  },
  {
   "cell_type": "markdown",
   "id": "14bcda8f",
   "metadata": {},
   "source": [
    "**5**. Проверьте гипотезу с левосторонней альтернативой."
   ]
  },
  {
   "cell_type": "code",
   "execution_count": 9,
   "id": "e37f9413",
   "metadata": {},
   "outputs": [
    {
     "name": "stdout",
     "output_type": "stream",
     "text": [
      "less alternative:\n",
      "Statistic: 3.2704505437191247\n",
      "P-value: 0.999463118419744\n",
      "Confidence interval: (-inf, 4.639699718930521)\n"
     ]
    }
   ],
   "source": [
    "print(\"less alternative:\")\n",
    "statistic, p_value, conf_int = wald_test(sample, theta, estimation_theta, estimation_sigma, 'less')\n",
    "print(f\"Statistic: {statistic}\")\n",
    "print(f\"P-value: {p_value}\")\n",
    "print(f\"Confidence interval: {conf_int}\")"
   ]
  },
  {
   "cell_type": "markdown",
   "id": "a899cb81",
   "metadata": {},
   "source": [
    "**Вывод:** Поскольку p-value больше 0.05, мы не отвергаем нулевую гипотезу о том, что $\\lambda$=2. Значит данные могут быть выборкой из экспоненциального распределения с параметром $\\lambda$=2."
   ]
  },
  {
   "cell_type": "markdown",
   "id": "37f3364a",
   "metadata": {},
   "source": [
    "### Задача 3\n",
    "\n",
    "На практике часто рассматривают асимптотические критерии, например, критерий Вальда. Такие критерии контролируют вероятность ошибки I рода на уровне $\\alpha$ только в пределе, однако для небольших выборок она может сильно отличаться от $\\alpha$, причем нередко в большую сторону. Поэтому для таких критериев возникает необходимость в вычислении значения вероятности ошибки I рода или *реального уровня значимости* при конечной выборке.\n",
    "\n",
    "Зачастую посчитать точное значение реального уровня значимости довольно сложно, поэтому вместо него вычисляют оценку с помощью сэмплирования по методу Монте-Карло.\n",
    "\n",
    "Пусть гипотеза $\\mathsf{H}_0$ простая, то есть $\\mathsf{H}_0\\colon \\mathsf{P} = \\mathsf{P}_0$. Для ее проверки по конечной выборке $X_1, ..., X_n$ используется критерий $S$. **Опишите схему оценки реального уровня** значимости критерия $S$ методом Монте-Карло.\n"
   ]
  },
  {
   "cell_type": "markdown",
   "id": "d76af73a",
   "metadata": {},
   "source": [
    "**Ответ:** \n",
    "\n",
    "1) Генерируем большое количество выборок $X_1,...,X_n$ из распределения $P_0​$.\n",
    "2) Для каждой выборки применяем критерий S и проверяем, отвергается ли гипотеза $H_0$​.\n",
    "3) Реальный уровень значимости(L) — это доля случаев, когда гипотеза $H_0$​ была отвергнута. Тогда оценка вероятности ошибки I рода = L.\n"
   ]
  },
  {
   "cell_type": "markdown",
   "id": "1d6e5aaa",
   "metadata": {},
   "source": [
    "Если гипотеза $\\mathsf{H}_0$ сложная, то есть $\\mathsf{H}_0\\colon \\mathsf{P} \\in \\mathscr{P}_0$, то можно повторить такую процедуру несколько раз для разных $\\mathsf{P} \\in \\mathscr{P}_0$.\n",
    "\n",
    "Рассмотрим альтернативную гипотезу $\\mathsf{H}_1\\colon \\mathsf{P} \\in \\mathscr{P}_1$. **Опишите схему оценки мощности** критерия $S$ методом Монте-Карло."
   ]
  },
  {
   "cell_type": "markdown",
   "id": "b7ef9eb9",
   "metadata": {},
   "source": [
    "**Ответ:**\n",
    "\n",
    "1) Генерируем большое количество выборок $X_1,...,X_n$​ из распределения, соответствующего альтернативной гипотезе $H_1$​.\n",
    "2) Для каждой выборки применяем критерий S и проверяем, отвергается ли гипотеза $H_0$​.\n",
    "3) Мощность критерия — это доля случаев, когда гипотеза $H_0$ была отвергнута. Это оценка вероятности правильно отвергнуть $H_0$​, когда верна $H_1$."
   ]
  },
  {
   "cell_type": "markdown",
   "id": "9dd91e81",
   "metadata": {},
   "source": [
    "Пусть $X_1, ..., X_n$ &mdash; выборка из пуассоновского распределения с параметром $\\theta$. Рассмотрим гипотезы $\\mathsf{H}_0\\colon \\theta = 1\\ \\ vs.\\ \\ \\mathsf{H}_1\\colon \\theta \\not= 1$ и критерий Вальда для их проверки.\n",
    "\n",
    "**1.** **Оцените реальный уровень значимости** критерия для $ n = 50$."
   ]
  },
  {
   "cell_type": "code",
   "execution_count": 10,
   "id": "988feee1",
   "metadata": {},
   "outputs": [
    {
     "name": "stdout",
     "output_type": "stream",
     "text": [
      "Оценка реального уровня значимости: 0.0586\n"
     ]
    }
   ],
   "source": [
    "np.random.seed(207)\n",
    "\n",
    "n = 50\n",
    "theta_0 = 1\n",
    "theta_1 = [0.2, 2]\n",
    "sample_size = 10000\n",
    "\n",
    "def wald_statistic(sample, theta):\n",
    "    sample_mean = np.mean(sample)\n",
    "    sample_var = np.var(sample, ddof=1)\n",
    "    return (sample_mean - theta) / np.sqrt(sample_var / len(sample))\n",
    "\n",
    "def p_value(wald_stat):\n",
    "    return 2 * (1 - sps.norm.cdf(abs(wald_stat)))\n",
    "\n",
    "def estimate_significance_level(theta_0, alpha=0.05):\n",
    "    rejected = 0\n",
    "    for i in range(sample_size):\n",
    "        sample = sps.poisson.rvs(theta_0, size=n)\n",
    "        wald_stat = wald_statistic(sample, theta_0)\n",
    "        p_val = p_value(wald_stat)\n",
    "        if p_val < alpha:\n",
    "            rejected += 1\n",
    "    return rejected / sample_size\n",
    "\n",
    "significance_level = estimate_significance_level(theta_0)\n",
    "print(f\"Оценка реального уровня значимости: {significance_level}\")\n"
   ]
  },
  {
   "cell_type": "markdown",
   "id": "76973cfd",
   "metadata": {},
   "source": [
    "**Вывод:** реальный уровень значимости получился выше это и не удивительно, так как различные критерии держат вероятность ошибки I рода на уровне $\\alpha$ только в пределе, а у нас малая выборка"
   ]
  },
  {
   "cell_type": "markdown",
   "id": "4e645cc9",
   "metadata": {},
   "source": [
    "**2.** Пусть $n=50$. **Сравните мощности критериев**, соответствующих двусторонней, левосторонней и правосторонней альтернативам при $\\theta=0.2$ и при $\\theta=2$."
   ]
  },
  {
   "cell_type": "code",
   "execution_count": 11,
   "id": "51b10c35",
   "metadata": {},
   "outputs": [
    {
     "name": "stderr",
     "output_type": "stream",
     "text": [
      "/tmp/ipykernel_13056/3151348352.py:28: RuntimeWarning: divide by zero encountered in scalar divide\n",
      "  wald_statistic = (sample_mean - theta_0) / standard_error\n"
     ]
    },
    {
     "name": "stdout",
     "output_type": "stream",
     "text": [
      "---------------------  theta = 0.2  ---------------------\n",
      "  Мощность критерия с двухсторонней альтернативой: 1.0\n",
      "  Мощность критерия с левосторонней альтернативой: 1.0\n",
      "  Мощность критерия с правосторонней альтернативой: 0.0\n",
      "---------------------  theta = 2  ---------------------\n",
      "  Мощность критерия с двухсторонней альтернативой: 1.0\n",
      "  Мощность критерия с левосторонней альтернативой: 0.0\n",
      "  Мощность критерия с правосторонней альтернативой: 1.0\n"
     ]
    }
   ],
   "source": [
    "np.random.seed(207)\n",
    "\n",
    "n = 50\n",
    "theta_0 = 1\n",
    "theta_1 = [0.2, 2]\n",
    "sample_size = 10000\n",
    "\n",
    "alpha = 0.05\n",
    "\n",
    "z_alpha_over_2 = sps.norm.ppf(1 - alpha / 2)\n",
    "z_alpha = sps.norm.ppf(1 - alpha)\n",
    "\n",
    "power_two_sided = []\n",
    "power_left_sided = []\n",
    "power_right_sided = []\n",
    "\n",
    "for theta in theta_1:\n",
    "    rejections_two_sided = 0\n",
    "    rejections_left_sided = 0\n",
    "    rejections_right_sided = 0\n",
    "\n",
    "    for i in range(sample_size):\n",
    "        sample = sps.poisson.rvs(theta, size=n)\n",
    "\n",
    "        sample_mean = np.mean(sample)\n",
    "        standard_error = np.sqrt(sample_mean / n)\n",
    "\n",
    "        wald_statistic = (sample_mean - theta_0) / standard_error\n",
    "\n",
    "        if np.abs(wald_statistic) > z_alpha_over_2:\n",
    "            rejections_two_sided += 1\n",
    "\n",
    "        if wald_statistic < -z_alpha:\n",
    "            rejections_left_sided += 1\n",
    "\n",
    "        if wald_statistic > z_alpha:\n",
    "            rejections_right_sided += 1\n",
    "\n",
    "    power_two_sided.append(rejections_two_sided / sample_size)\n",
    "    power_left_sided.append(rejections_left_sided / sample_size)\n",
    "    power_right_sided.append(rejections_right_sided / sample_size)\n",
    "\n",
    "for i, theta in enumerate(theta_1):\n",
    "    print(f\"---------------------  theta = {theta}  ---------------------\")\n",
    "    print(f\"  Мощность критерия с двухсторонней альтернативой: {power_two_sided[i]}\")\n",
    "    print(f\"  Мощность критерия с левосторонней альтернативой: {power_left_sided[i]}\")\n",
    "    print(f\"  Мощность критерия с правосторонней альтернативой: {power_right_sided[i]}\")\n",
    "\n"
   ]
  },
  {
   "cell_type": "markdown",
   "id": "9419248f",
   "metadata": {},
   "source": [
    "**Вывод:** Мы видим, что мощность критерия зависит от выбора альтернативы (двусторонняя, левосторонняя, правосторонняя) и от значения параметра $\\theta$."
   ]
  },
  {
   "cell_type": "markdown",
   "id": "bc47e3b0",
   "metadata": {},
   "source": [
    "### Задача 4"
   ]
  },
  {
   "cell_type": "markdown",
   "id": "2d01f479",
   "metadata": {},
   "source": [
    "**Профиль физика**\n",
    "\n",
    "Период колебания математического маятника можно расчиатать по следующей формуле:\n",
    "$$T = 2\\pi \\sqrt{\\frac{l}{g}}$$\n",
    "Вы выполнили лабораторную работу по вычислению ускорения свободного падения. Длина нити маятника 50 см. В своей работе вы измеряли время 10 полных колебаний (10 периодов) с помощью обычного секундомера и получили такие значение: \n",
    "\n",
    "\n"
   ]
  },
  {
   "cell_type": "code",
   "execution_count": 12,
   "id": "48281659",
   "metadata": {},
   "outputs": [],
   "source": [
    "T_sample = [14.47, 14.46, 14.73, 14.74, 16.14, 12.6, 14.17, 12.83, 14.1, 12.81, 12.98, \n",
    "            13.84, 13.96, 13.6, 14.13, 15.32, 13.98, 13.96, 12.86, 15.46, 13.2, 15.26, \n",
    "            14.86, 14.49, 14.8, 12.92, 14.65, 14.47, 15.88, 15.04, 14.84, 15.12, 12.96, \n",
    "            16.2, 11.99, 15.57, 13.55, 13.16, 14.76, 13.79, 12.58, 14.61, 14.1, 14.54, \n",
    "            14.72, 14.87, 13.37, 14.04, 13.09, 14.7]"
   ]
  },
  {
   "cell_type": "markdown",
   "id": "c548b045",
   "metadata": {},
   "source": [
    "Получите массив величин g, используя формулу выше."
   ]
  },
  {
   "cell_type": "code",
   "execution_count": 13,
   "id": "75e37d64",
   "metadata": {},
   "outputs": [],
   "source": [
    "l = 0.5\n",
    "T = np.array(T_sample)\n",
    "\n",
    "g = 4 * np.pi**2 * l / (T/10)**2"
   ]
  },
  {
   "cell_type": "markdown",
   "id": "c7c6586c",
   "metadata": {},
   "source": [
    "Предположим, такие величины имеют нормальное распределение $\\mathcal{N}(a, \\sigma^2)$. Используйте критерий Вальда для проверки гипотезы $\\mathsf{H}_0: a = 9.81$ vs $\\mathsf{H}_1: a \\neq 9.81$\n"
   ]
  },
  {
   "cell_type": "code",
   "execution_count": 14,
   "id": "5669ee57",
   "metadata": {},
   "outputs": [
    {
     "name": "stdout",
     "output_type": "stream",
     "text": [
      "Wald statistic: 5.2951\n",
      "P-value: 0.4779\n"
     ]
    }
   ],
   "source": [
    "n = len(g)\n",
    "mean_hat = np.mean(g)\n",
    "sigma_hat = np.std(g, ddof=1)\n",
    "\n",
    "statistic_wald = np.sqrt(n) * (mean_hat - 9.81)/sigma_hat\n",
    "p_value = 2 * (1 - sps.norm.cdf(abs(statistic_wald)))\n",
    "\n",
    "print(f\"Wald statistic: {wald_statistic.round(4)}\")\n",
    "print(f\"P-value: {p_value.round(4)}\")"
   ]
  },
  {
   "cell_type": "markdown",
   "id": "e163db40",
   "metadata": {},
   "source": [
    "**Вывод:** P-value больше уровня значимости 0.05, поэтому мы не отвергаем нулевую гипотезу. Значит среднее значение ускорения свободного падения, полученное из измерений T_sample, статистически не отличается от 9.81"
   ]
  },
  {
   "cell_type": "markdown",
   "id": "adfe0600",
   "metadata": {},
   "source": [
    "### <b><i><font color=\"orange\">Сложная часть</font></i></b>"
   ]
  },
  {
   "cell_type": "markdown",
   "id": "034c700e",
   "metadata": {},
   "source": [
    "\n",
    "###  Задача 5\n",
    "1. Пусть $X = ( X_1, ... X_n)$ — выборка из неизвестного распределения $\\mathsf{P} \\in \\mathcal{N}(a, \\sigma^2)$. Постройте критерий для проверки гипотез $\\mathsf{H}_0 : a = 0 $   vs.  $\\mathsf{H}_1 : a > 0$ уровня значимости $\\alpha$.\n",
    "\n",
    "Бонусный сложный пункт: получите выражение для p-value аналогично правостороннему критерию Вальда\n",
    "\n",
    "*Указание:*\n",
    "- Используйте статистику $T(X) = \\sqrt{n - 1} \\frac{\\overline{X}}{s}$, использовавшуюся при построении точных доверительных интервалов в нормальной модели. Какое распределение она имеет при справедливости $\\mathsf{H}_0$ (т.е. при $a = 0$)? \n",
    "- Подумайте, какой вид должен иметь критерий? При каких значениях $T(X)$ гипотезу $\\mathsf{H}_0$ разумно отвергать?\n",
    "- Этот критерий реализован в `scipy.stats.ttest_1samp`. Использовать для данной задачи его можно следующим образом: `sps.ttest_1samp(sample, popmean=0, alternative='greater')`. В результате применения функция вернет значение статистики критерия, p-value и количество степеней свободы. Вы можете проверить свой ответ с ее помощью."
   ]
  },
  {
   "cell_type": "markdown",
   "id": "5b415e77",
   "metadata": {},
   "source": [
    "2. Пусть  $X = ( X_1, ... X_n)$ &mdash; выборка из неизвестного распределения $\\mathsf{P}$ с конечным вторым моментом. Постройте асимптотический критерий для проверки гипотез $\\mathsf{H}_0 \\colon \\mathsf{E} X = 0 $   vs.  $\\mathsf{H}_1 \\colon \\mathsf{E} X > 0$ уровня значимости $\\alpha$. Покажите, что при $n \\to \\infty$ этот критерий совпадает с критерием из первого пункта."
   ]
  },
  {
   "cell_type": "markdown",
   "id": "d6aacc05",
   "metadata": {},
   "source": [
    "**Решение:**"
   ]
  },
  {
   "cell_type": "markdown",
   "id": "39f12411",
   "metadata": {},
   "source": [
    "РЕШЕНИЕ ПРИКРЕПЛЕНО"
   ]
  },
  {
   "cell_type": "code",
   "execution_count": 15,
   "id": "406e3cbb",
   "metadata": {},
   "outputs": [
    {
     "name": "stdout",
     "output_type": "stream",
     "text": [
      "t-statistic: -0.02865942784725224\n",
      "p-value: 0.5114030452551606\n"
     ]
    }
   ],
   "source": [
    "np.random.seed(207)\n",
    "\n",
    "mean = 0\n",
    "deviation = 1\n",
    "\n",
    "sample = np.random.normal(mean, deviation, size=100)\n",
    "\n",
    "t_stat, p_value = sps.ttest_1samp(sample, popmean=0, alternative='greater')\n",
    "\n",
    "print(f\"t-statistic: {t_stat}\")\n",
    "print(f\"p-value: {p_value}\")"
   ]
  },
  {
   "cell_type": "code",
   "execution_count": 16,
   "id": "afa7c134",
   "metadata": {},
   "outputs": [],
   "source": [
    "pass"
   ]
  }
 ],
 "metadata": {
  "kernelspec": {
   "display_name": "Python 3 (ipykernel)",
   "language": "python",
   "name": "python3"
  },
  "language_info": {
   "codemirror_mode": {
    "name": "ipython",
    "version": 3
   },
   "file_extension": ".py",
   "mimetype": "text/x-python",
   "name": "python",
   "nbconvert_exporter": "python",
   "pygments_lexer": "ipython3",
   "version": "3.10.12"
  }
 },
 "nbformat": 4,
 "nbformat_minor": 5
}
